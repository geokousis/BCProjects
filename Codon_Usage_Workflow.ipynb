{
 "cells": [
  {
   "cell_type": "markdown",
   "id": "fbce8b26-1046-4dbf-b235-8954d013d078",
   "metadata": {},
   "source": [
    "# Assignment Introduction to Python course (BIO102.1)\n",
    "*by Georgios Kousis Tsampazis*\n"
   ]
  },
  {
   "cell_type": "markdown",
   "id": "2133ef79",
   "metadata": {},
   "source": [
    "## Overview\n",
    "\n",
    "This notebook documents a complete workflow for analyzing codon usage bias and its relationship to gene expression in **human breast tissue**. The analysis utilizes publicly available genomic and transcriptomic data to:\n",
    "\n",
    "- Download and preprocessed gene expression and genomic sequence data\n",
    "- Run `tRNAscan-SE` to determine optimal codons per amino acid\n",
    "- Extract the longest CDS (coding DNA sequence) per gene from a FASTA file\n",
    "- Compute codon usage ratios for each gene\n",
    "- Correlate codon usage bias with gene expression levels (RPKM)\n",
    "- Visualize the relationship\n",
    "\n",
    "The goal is to assess whether highly expressed genes preferentially use optimal codons, a key concept in understanding translational efficiency and selection in gene regulation.\n",
    "\n",
    "### Recommended Environment\n",
    "\n",
    "To ensure compatibility and reproducibility, it's strongly recommended to run this workflow in a **Conda environment**. This allows for easy installation of required tools (such as `tRNAscan-SE`) and Python libraries.\n",
    "\n",
    "Example Conda environment setup:\n",
    "\n",
    "```bash\n",
    "conda create -n codon_env python=3.13 bioconda::trnascan-se tqdm pandas matplotlib seaborn biopython plotly scipy -y\n",
    "conda activate codon_env\n"
   ]
  },
  {
   "cell_type": "markdown",
   "id": "331966a0",
   "metadata": {},
   "source": [
    "### Downloading Required Files for Data Assignment\n",
    "\n",
    "**Objective:**  \n",
    "Ensure all necessary files for the analysis are present in the `data_assignment` directory. If a file is missing, download it from the specified URL.\n",
    "\n",
    "**Files to Download:**\n",
    "\n",
    "- `ERX011225_gene.txt.gz`  \n",
    "- `GCF_000001405.40_GRCh38.p14_cds_from_genomic.fna.gz`  \n",
    "- `GCF_000001405.40_GRCh38.p14_genomic.fna.gz`  \n",
    "- `GCF_000001405.40_GRCh38.p14_genomic.tRNAscan.out`\n",
    "\n",
    "**Dependencies:**\n",
    "\n",
    "- `tqdm`\n",
    "- `requests`"
   ]
  },
  {
   "cell_type": "code",
   "execution_count": 46,
   "id": "7e9a4af7",
   "metadata": {},
   "outputs": [
    {
     "name": "stdout",
     "output_type": "stream",
     "text": [
      "Requirement already satisfied: tqdm in /home/georgekousis6/miniconda3/envs/mat/lib/python3.13/site-packages (4.67.1)\n",
      "Requirement already satisfied: requests in /home/georgekousis6/miniconda3/envs/mat/lib/python3.13/site-packages (2.32.3)\n",
      "Requirement already satisfied: charset-normalizer<4,>=2 in /home/georgekousis6/miniconda3/envs/mat/lib/python3.13/site-packages (from requests) (3.4.1)\n",
      "Requirement already satisfied: idna<4,>=2.5 in /home/georgekousis6/miniconda3/envs/mat/lib/python3.13/site-packages (from requests) (3.10)\n",
      "Requirement already satisfied: urllib3<3,>=1.21.1 in /home/georgekousis6/miniconda3/envs/mat/lib/python3.13/site-packages (from requests) (2.3.0)\n",
      "Requirement already satisfied: certifi>=2017.4.17 in /home/georgekousis6/miniconda3/envs/mat/lib/python3.13/site-packages (from requests) (2025.1.31)\n",
      "Note: you may need to restart the kernel to use updated packages.\n"
     ]
    }
   ],
   "source": [
    "pip install tqdm requests"
   ]
  },
  {
   "cell_type": "code",
   "execution_count": 43,
   "id": "ac793d4a-8471-40f7-944a-fd784cc58975",
   "metadata": {},
   "outputs": [
    {
     "name": "stdout",
     "output_type": "stream",
     "text": [
      "ERX011225_gene.txt.gz already exists. Skipping download.\n",
      "GCF_000001405.40_GRCh38.p14_cds_from_genomic.fna.gz already exists. Skipping download.\n",
      "GCF_000001405.40_GRCh38.p14_genomic.fna.gz already exists. Skipping download.\n",
      "GCF_000001405.40_GRCh38.p14_genomic.tRNAscan.out already exists. Skipping download.\n",
      "Files are ready.\n"
     ]
    }
   ],
   "source": [
    "import os\n",
    "import requests\n",
    "from tqdm import tqdm\n",
    "\n",
    "# Create the data directory if it doesn't exist.\n",
    "data_dir = \"./data_assignment\"\n",
    "os.makedirs(data_dir, exist_ok=True)\n",
    "files_to_download = {\n",
    "    \"ERX011225_gene.txt.gz\": \"https://ngdc.cncb.ac.cn/mtd/download/human/ERX011225_gene.txt.gz\",\n",
    "    \"GCF_000001405.40_GRCh38.p14_cds_from_genomic.fna.gz\": \"https://ftp.ncbi.nlm.nih.gov/genomes/all/GCF/000/001/405/GCF_000001405.40_GRCh38.p14/GCF_000001405.40_GRCh38.p14_cds_from_genomic.fna.gz\",\n",
    "    \"GCF_000001405.40_GRCh38.p14_genomic.fna.gz\": \"https://ftp.ncbi.nlm.nih.gov/genomes/all/GCF/000/001/405/GCF_000001405.40_GRCh38.p14/GCF_000001405.40_GRCh38.p14_genomic.fna.gz\",\n",
    "    \"GCF_000001405.40_GRCh38.p14_genomic.tRNAscan.out\": \"https://raw.githubusercontent.com/geokousis/Intro-Python/main/trnascan_grch38.txt\"\n",
    "}\n",
    "\n",
    "def download_file(url, file_path):\n",
    "    response = requests.get(url, stream=True)\n",
    "    response.raise_for_status()  # Raise an error for bad status codes.\n",
    "    \n",
    "    total_size = int(response.headers.get('content-length', 0))\n",
    "    block_size = 1024  # 1 Kilobyte blocks\n",
    "\n",
    "    with open(file_path, 'wb') as file, tqdm(\n",
    "            total=total_size, unit='B', unit_scale=True, desc=os.path.basename(file_path)\n",
    "        ) as progress_bar:\n",
    "        for data in response.iter_content(block_size):\n",
    "            file.write(data)\n",
    "            progress_bar.update(len(data))\n",
    "\n",
    "for filename, url in files_to_download.items():\n",
    "    file_path = os.path.join(data_dir, filename)\n",
    "    if not os.path.exists(file_path):\n",
    "        print(f\"Downloading {filename} ...\")\n",
    "        try:\n",
    "            download_file(url, file_path)\n",
    "            print(f\"{filename} downloaded successfully.\")\n",
    "        except Exception as e:\n",
    "            print(f\"Error downloading {filename}: {e}\")\n",
    "    else:\n",
    "        print(f\"{filename} already exists. Skipping download.\")\n",
    "print(\"Files are ready.\")\n"
   ]
  },
  {
   "cell_type": "markdown",
   "id": "fac0545e",
   "metadata": {},
   "source": [
    "### Running tRNAscan-SE on GRCh38 Human Genome\n",
    "\n",
    "**Objective:**  \n",
    "Check if the output file from `tRNAscan-SE` exists. If not, set up the environment and run the tool on the GRCh38 reference genome.\n",
    "\n",
    "**Script Overview:**\n",
    "\n",
    "- Checks for the existence of the output file: `GCF_000001405.40_GRCh38.p14_genomic.tRNAscan.out`\n",
    "- If not found:\n",
    "  - Creates a Conda environment with `tRNAscan-SE`\n",
    "  - Unzips the input FASTA file (as `tRNAscan-SE` requires uncompressed input)\n",
    "  - Executes `tRNAscan-SE` using the specified number of threads\n",
    "\n",
    "**Dependencies:**\n",
    "\n",
    "- **Conda:**\n",
    "  - `bioconda::trnascan-se`\n",
    "\n",
    "**Side notes:**\n",
    "- A different conda envrioment is created to not deal with package conflicts and extensive solving times (safe approach for not actively-developed/famous tools)"
   ]
  },
  {
   "cell_type": "code",
   "execution_count": 44,
   "id": "c93f7cb7",
   "metadata": {},
   "outputs": [
    {
     "name": "stdout",
     "output_type": "stream",
     "text": [
      "data_assignment/GCF_000001405.40_GRCh38.p14_genomic.tRNAscan.out\n",
      "File exists: data_assignment/GCF_000001405.40_GRCh38.p14_genomic.tRNAscan.out\n"
     ]
    }
   ],
   "source": [
    "import os\n",
    "from pathlib import Path\n",
    "\n",
    "# Path to output file\n",
    "file_path = Path(\"./data_assignment/GCF_000001405.40_GRCh38.p14_genomic.tRNAscan.out\")\n",
    "threads =10 # number of threads for tRNAscan-SE\n",
    "\n",
    "if file_path.exists():\n",
    "    print(file_path)\n",
    "    print(\"File exists:\", file_path)\n",
    "else:\n",
    "    print(file_path)\n",
    "    print(\"File does not exist. Setting up environment and running tRNAscan-SE...\")\n",
    "    \n",
    "\n",
    "    # Create conda environment and install tRNAscan-SE\n",
    "    !conda create -y -n trnascan_env bioconda::trnascan-se\n",
    "\n",
    "    # Unzip the genomic FASTA file (input of tRNAscan must be unziped)\n",
    "    !gunzip ./data_assigmnet/GCF_000001405.40_GRCh38.p14_genomic.fna.gz\n",
    "\n",
    "    # Run tRNAscan-SE \n",
    "    !conda run -n trnascan_env tRNAscan-SE ./data_assigmnet/GCF_000001405.40_GRCh38.p14_genomic.fna -o ./data_assigmnet/GCF_000001405.40_GRCh38.p14_genomic.tRNAscan.out --thread threads\n"
   ]
  },
  {
   "cell_type": "markdown",
   "id": "80689350",
   "metadata": {},
   "source": [
    "## Expression Parsing\n"
   ]
  },
  {
   "cell_type": "markdown",
   "id": "5180c577",
   "metadata": {},
   "source": [
    "### Parsing Expression Data: Retaining Only the Highest RPKM Isoform\n",
    "\n",
    "**Dataset:** *Human Breast Tissue*  \n",
    "**Source File:** `ERX011225_gene.txt.gz`\n",
    "\n",
    "**Objective:**  \n",
    "Extract expression data, keeping only the isoform with the highest RPKM value for each gene.\n",
    "\n",
    "**Output:**  \n",
    "A DataFrame containing:\n",
    "- Gene Name  \n",
    "- Corresponding RPKM Value (highest per gene)\n"
   ]
  },
  {
   "cell_type": "code",
   "execution_count": 45,
   "id": "260f3190",
   "metadata": {},
   "outputs": [
    {
     "name": "stdout",
     "output_type": "stream",
     "text": [
      "      Gene_Symbol        RPKM\n",
      "6095         A1BG    0.218907\n",
      "112      A1BG-AS1    0.082974\n",
      "14997        A1CF    0.010768\n",
      "5336          A2M  210.836000\n",
      "82        A2M-AS1    1.087030\n",
      "...           ...         ...\n",
      "13642      ZYG11A    0.091902\n",
      "7656       ZYG11B   13.849700\n",
      "4964          ZYX   60.034900\n",
      "10191       ZZEF1    3.736200\n",
      "2771         ZZZ3    7.811970\n",
      "\n",
      "[18303 rows x 2 columns]\n"
     ]
    }
   ],
   "source": [
    "import pandas as pd\n",
    "\n",
    "def keep_rpkm_gene(file):\n",
    "    \"\"\"\n",
    "    Keep the row with the highest RPKM for each Gene_Symbol in the given file.\n",
    "    Input:\n",
    "        file is a gzipped tab-separated typically derived from ngdc\n",
    "    Returns:\n",
    "        df_result: DataFrame with Gene_Symbol and RPKM\n",
    "    \"\"\"\n",
    "    df = pd.read_csv(file, compression='gzip', header=0, sep='\\t')\n",
    "    \n",
    "    # Drop the last column\n",
    "    df = df.iloc[:, :-1]\n",
    "    \n",
    "    # Keep the row with the highest RPKM for each Gene_Symbol\n",
    "    df_highest_rpkm = df.loc[df.groupby('Gene_Symbol')['RPKM'].idxmax()]\n",
    "    \n",
    "    # Keep only Gene_Symbol and RPKM columns\n",
    "    df_result = df_highest_rpkm[['Gene_Symbol', 'RPKM']]\n",
    "    return df_result\n",
    "rpkm=keep_rpkm_gene(\"./data_assignment/ERX011225_gene.txt.gz\")\n",
    "print(rpkm)"
   ]
  },
  {
   "cell_type": "markdown",
   "id": "41a49218",
   "metadata": {},
   "source": [
    "### Finding Optimal Codon per Amino Acid\n",
    "\n",
    "**Objective:**  \n",
    "Analyze codon usage from tRNAs predicted by `tRNAscan-SE`, determine the most frequent (optimal) codon for each amino acid, and visualize the codon distribution.\n",
    "\n",
    "**Output:**  \n",
    "- Dictionary of optimal codons per amino acid  \n",
    "- Stacked bar plot showing codon frequency per amino acid\n",
    "\n",
    "**Utilizing:**\n",
    "- `GCF_000001405.40_GRCh38.p14_genomic.tRNAscan.out` (tRNAscan-SE output)\n"
   ]
  },
  {
   "cell_type": "code",
   "execution_count": 50,
   "id": "200fcf9a",
   "metadata": {},
   "outputs": [
    {
     "name": "stdout",
     "output_type": "stream",
     "text": [
      "Requirement already satisfied: biopython in /home/georgekousis6/miniconda3/envs/mat/lib/python3.13/site-packages (1.85)\n",
      "Requirement already satisfied: pandas in /home/georgekousis6/miniconda3/envs/mat/lib/python3.13/site-packages (2.2.3)\n",
      "Requirement already satisfied: matplotlib in /home/georgekousis6/miniconda3/envs/mat/lib/python3.13/site-packages (3.10.1)\n",
      "Requirement already satisfied: numpy in /home/georgekousis6/miniconda3/envs/mat/lib/python3.13/site-packages (from biopython) (2.2.4)\n",
      "Requirement already satisfied: python-dateutil>=2.8.2 in /home/georgekousis6/miniconda3/envs/mat/lib/python3.13/site-packages (from pandas) (2.9.0.post0)\n",
      "Requirement already satisfied: pytz>=2020.1 in /home/georgekousis6/miniconda3/envs/mat/lib/python3.13/site-packages (from pandas) (2025.2)\n",
      "Requirement already satisfied: tzdata>=2022.7 in /home/georgekousis6/miniconda3/envs/mat/lib/python3.13/site-packages (from pandas) (2025.2)\n",
      "Requirement already satisfied: contourpy>=1.0.1 in /home/georgekousis6/miniconda3/envs/mat/lib/python3.13/site-packages (from matplotlib) (1.3.1)\n",
      "Requirement already satisfied: cycler>=0.10 in /home/georgekousis6/miniconda3/envs/mat/lib/python3.13/site-packages (from matplotlib) (0.12.1)\n",
      "Requirement already satisfied: fonttools>=4.22.0 in /home/georgekousis6/miniconda3/envs/mat/lib/python3.13/site-packages (from matplotlib) (4.57.0)\n",
      "Requirement already satisfied: kiwisolver>=1.3.1 in /home/georgekousis6/miniconda3/envs/mat/lib/python3.13/site-packages (from matplotlib) (1.4.8)\n",
      "Requirement already satisfied: packaging>=20.0 in /home/georgekousis6/miniconda3/envs/mat/lib/python3.13/site-packages (from matplotlib) (24.2)\n",
      "Requirement already satisfied: pillow>=8 in /home/georgekousis6/miniconda3/envs/mat/lib/python3.13/site-packages (from matplotlib) (11.2.1)\n",
      "Requirement already satisfied: pyparsing>=2.3.1 in /home/georgekousis6/miniconda3/envs/mat/lib/python3.13/site-packages (from matplotlib) (3.2.3)\n",
      "Requirement already satisfied: six>=1.5 in /home/georgekousis6/miniconda3/envs/mat/lib/python3.13/site-packages (from python-dateutil>=2.8.2->pandas) (1.17.0)\n",
      "Note: you may need to restart the kernel to use updated packages.\n"
     ]
    }
   ],
   "source": [
    "pip install biopython pandas matplotlib"
   ]
  },
  {
   "cell_type": "code",
   "execution_count": 46,
   "id": "639efdff",
   "metadata": {},
   "outputs": [
    {
     "name": "stdout",
     "output_type": "stream",
     "text": [
      "\n",
      "Optimal codon per amino acid:\n",
      "{'*': 'TGA', 'A': 'GCT', 'C': 'TGC', 'D': 'GAC', 'E': 'GAG', 'F': 'TTC', 'G': 'GGG', 'H': 'CAC', 'I': 'ATT', 'K': 'AAA', 'L': 'CTT', 'M': 'ATG', 'N': 'AAC', 'P': 'CCT', 'Q': 'CAG', 'R': 'CGG', 'S': 'TCT', 'T': 'ACT', 'V': 'GTG', 'W': 'TGG', 'Y': 'TAC'}\n"
     ]
    },
    {
     "data": {
      "application/vnd.plotly.v1+json": {
       "config": {
        "plotlyServerURL": "https://plot.ly"
       },
       "data": [
        {
         "name": "TAA",
         "type": "bar",
         "x": [
          "*",
          "A",
          "C",
          "D",
          "E",
          "F",
          "G",
          "H",
          "I",
          "K",
          "L",
          "M",
          "N",
          "P",
          "Q",
          "R",
          "S",
          "T",
          "V",
          "W",
          "Y"
         ],
         "y": {
          "bdata": "AQAAAAAAAAAAAAAAAAAAAAAAAAAA",
          "dtype": "i1"
         }
        },
        {
         "name": "TGA",
         "type": "bar",
         "x": [
          "*",
          "A",
          "C",
          "D",
          "E",
          "F",
          "G",
          "H",
          "I",
          "K",
          "L",
          "M",
          "N",
          "P",
          "Q",
          "R",
          "S",
          "T",
          "V",
          "W",
          "Y"
         ],
         "y": {
          "bdata": "AwAAAAAAAAAAAAAAAAAAAAAAAAAA",
          "dtype": "i1"
         }
        },
        {
         "name": "GCA",
         "type": "bar",
         "x": [
          "*",
          "A",
          "C",
          "D",
          "E",
          "F",
          "G",
          "H",
          "I",
          "K",
          "L",
          "M",
          "N",
          "P",
          "Q",
          "R",
          "S",
          "T",
          "V",
          "W",
          "Y"
         ],
         "y": {
          "bdata": "ACYAAAAAAAAAAAAAAAAAAAAAAAAA",
          "dtype": "i1"
         }
        },
        {
         "name": "GCC",
         "type": "bar",
         "x": [
          "*",
          "A",
          "C",
          "D",
          "E",
          "F",
          "G",
          "H",
          "I",
          "K",
          "L",
          "M",
          "N",
          "P",
          "Q",
          "R",
          "S",
          "T",
          "V",
          "W",
          "Y"
         ],
         "y": {
          "bdata": "AAIAAAAAAAAAAAAAAAAAAAAAAAAA",
          "dtype": "i1"
         }
        },
        {
         "name": "GCG",
         "type": "bar",
         "x": [
          "*",
          "A",
          "C",
          "D",
          "E",
          "F",
          "G",
          "H",
          "I",
          "K",
          "L",
          "M",
          "N",
          "P",
          "Q",
          "R",
          "S",
          "T",
          "V",
          "W",
          "Y"
         ],
         "y": {
          "bdata": "AAsAAAAAAAAAAAAAAAAAAAAAAAAA",
          "dtype": "i1"
         }
        },
        {
         "name": "GCT",
         "type": "bar",
         "x": [
          "*",
          "A",
          "C",
          "D",
          "E",
          "F",
          "G",
          "H",
          "I",
          "K",
          "L",
          "M",
          "N",
          "P",
          "Q",
          "R",
          "S",
          "T",
          "V",
          "W",
          "Y"
         ],
         "y": {
          "bdata": "AFgAAAAAAAAAAAAAAAAAAAAAAAAA",
          "dtype": "i1"
         }
        },
        {
         "name": "TGC",
         "type": "bar",
         "x": [
          "*",
          "A",
          "C",
          "D",
          "E",
          "F",
          "G",
          "H",
          "I",
          "K",
          "L",
          "M",
          "N",
          "P",
          "Q",
          "R",
          "S",
          "T",
          "V",
          "W",
          "Y"
         ],
         "y": {
          "bdata": "AAAkAAAAAAAAAAAAAAAAAAAAAAAA",
          "dtype": "i1"
         }
        },
        {
         "name": "GAC",
         "type": "bar",
         "x": [
          "*",
          "A",
          "C",
          "D",
          "E",
          "F",
          "G",
          "H",
          "I",
          "K",
          "L",
          "M",
          "N",
          "P",
          "Q",
          "R",
          "S",
          "T",
          "V",
          "W",
          "Y"
         ],
         "y": {
          "bdata": "AAAAEwAAAAAAAAAAAAAAAAAAAAAA",
          "dtype": "i1"
         }
        },
        {
         "name": "GAT",
         "type": "bar",
         "x": [
          "*",
          "A",
          "C",
          "D",
          "E",
          "F",
          "G",
          "H",
          "I",
          "K",
          "L",
          "M",
          "N",
          "P",
          "Q",
          "R",
          "S",
          "T",
          "V",
          "W",
          "Y"
         ],
         "y": {
          "bdata": "AAAACAAAAAAAAAAAAAAAAAAAAAAA",
          "dtype": "i1"
         }
        },
        {
         "name": "GAA",
         "type": "bar",
         "x": [
          "*",
          "A",
          "C",
          "D",
          "E",
          "F",
          "G",
          "H",
          "I",
          "K",
          "L",
          "M",
          "N",
          "P",
          "Q",
          "R",
          "S",
          "T",
          "V",
          "W",
          "Y"
         ],
         "y": {
          "bdata": "AAAAABAAAAAAAAAAAAAAAAAAAAAA",
          "dtype": "i1"
         }
        },
        {
         "name": "GAG",
         "type": "bar",
         "x": [
          "*",
          "A",
          "C",
          "D",
          "E",
          "F",
          "G",
          "H",
          "I",
          "K",
          "L",
          "M",
          "N",
          "P",
          "Q",
          "R",
          "S",
          "T",
          "V",
          "W",
          "Y"
         ],
         "y": {
          "bdata": "AAAAABIAAAAAAAAAAAAAAAAAAAAA",
          "dtype": "i1"
         }
        },
        {
         "name": "TTC",
         "type": "bar",
         "x": [
          "*",
          "A",
          "C",
          "D",
          "E",
          "F",
          "G",
          "H",
          "I",
          "K",
          "L",
          "M",
          "N",
          "P",
          "Q",
          "R",
          "S",
          "T",
          "V",
          "W",
          "Y"
         ],
         "y": {
          "bdata": "AAAAAAA0AAAAAAAAAAAAAAAAAAAA",
          "dtype": "i1"
         }
        },
        {
         "name": "GGA",
         "type": "bar",
         "x": [
          "*",
          "A",
          "C",
          "D",
          "E",
          "F",
          "G",
          "H",
          "I",
          "K",
          "L",
          "M",
          "N",
          "P",
          "Q",
          "R",
          "S",
          "T",
          "V",
          "W",
          "Y"
         ],
         "y": {
          "bdata": "AAAAAAAACQAAAAAAAAAAAAAAAAAA",
          "dtype": "i1"
         }
        },
        {
         "name": "GGC",
         "type": "bar",
         "x": [
          "*",
          "A",
          "C",
          "D",
          "E",
          "F",
          "G",
          "H",
          "I",
          "K",
          "L",
          "M",
          "N",
          "P",
          "Q",
          "R",
          "S",
          "T",
          "V",
          "W",
          "Y"
         ],
         "y": {
          "bdata": "AAAAAAAADwAAAAAAAAAAAAAAAAAA",
          "dtype": "i1"
         }
        },
        {
         "name": "GGG",
         "type": "bar",
         "x": [
          "*",
          "A",
          "C",
          "D",
          "E",
          "F",
          "G",
          "H",
          "I",
          "K",
          "L",
          "M",
          "N",
          "P",
          "Q",
          "R",
          "S",
          "T",
          "V",
          "W",
          "Y"
         ],
         "y": {
          "bdata": "AAAAAAAAEQAAAAAAAAAAAAAAAAAA",
          "dtype": "i1"
         }
        },
        {
         "name": "CAC",
         "type": "bar",
         "x": [
          "*",
          "A",
          "C",
          "D",
          "E",
          "F",
          "G",
          "H",
          "I",
          "K",
          "L",
          "M",
          "N",
          "P",
          "Q",
          "R",
          "S",
          "T",
          "V",
          "W",
          "Y"
         ],
         "y": {
          "bdata": "AAAAAAAAAAoAAAAAAAAAAAAAAAAA",
          "dtype": "i1"
         }
        },
        {
         "name": "ATA",
         "type": "bar",
         "x": [
          "*",
          "A",
          "C",
          "D",
          "E",
          "F",
          "G",
          "H",
          "I",
          "K",
          "L",
          "M",
          "N",
          "P",
          "Q",
          "R",
          "S",
          "T",
          "V",
          "W",
          "Y"
         ],
         "y": {
          "bdata": "AAAAAAAAAAAGAAAAAAAAAAAAAAAA",
          "dtype": "i1"
         }
        },
        {
         "name": "ATC",
         "type": "bar",
         "x": [
          "*",
          "A",
          "C",
          "D",
          "E",
          "F",
          "G",
          "H",
          "I",
          "K",
          "L",
          "M",
          "N",
          "P",
          "Q",
          "R",
          "S",
          "T",
          "V",
          "W",
          "Y"
         ],
         "y": {
          "bdata": "AAAAAAAAAAAFAAAAAAAAAAAAAAAA",
          "dtype": "i1"
         }
        },
        {
         "name": "ATT",
         "type": "bar",
         "x": [
          "*",
          "A",
          "C",
          "D",
          "E",
          "F",
          "G",
          "H",
          "I",
          "K",
          "L",
          "M",
          "N",
          "P",
          "Q",
          "R",
          "S",
          "T",
          "V",
          "W",
          "Y"
         ],
         "y": {
          "bdata": "AAAAAAAAAAATAAAAAAAAAAAAAAAA",
          "dtype": "i1"
         }
        },
        {
         "name": "AAA",
         "type": "bar",
         "x": [
          "*",
          "A",
          "C",
          "D",
          "E",
          "F",
          "G",
          "H",
          "I",
          "K",
          "L",
          "M",
          "N",
          "P",
          "Q",
          "R",
          "S",
          "T",
          "V",
          "W",
          "Y"
         ],
         "y": {
          "bdata": "AAAAAAAAAAAAHAAAAAAAAAAAAAAA",
          "dtype": "i1"
         }
        },
        {
         "name": "AAG",
         "type": "bar",
         "x": [
          "*",
          "A",
          "C",
          "D",
          "E",
          "F",
          "G",
          "H",
          "I",
          "K",
          "L",
          "M",
          "N",
          "P",
          "Q",
          "R",
          "S",
          "T",
          "V",
          "W",
          "Y"
         ],
         "y": {
          "bdata": "AAAAAAAAAAAAEwAAAAAAAAAAAAAA",
          "dtype": "i1"
         }
        },
        {
         "name": "CTA",
         "type": "bar",
         "x": [
          "*",
          "A",
          "C",
          "D",
          "E",
          "F",
          "G",
          "H",
          "I",
          "K",
          "L",
          "M",
          "N",
          "P",
          "Q",
          "R",
          "S",
          "T",
          "V",
          "W",
          "Y"
         ],
         "y": {
          "bdata": "AAAAAAAAAAAAAAQAAAAAAAAAAAAA",
          "dtype": "i1"
         }
        },
        {
         "name": "CTG",
         "type": "bar",
         "x": [
          "*",
          "A",
          "C",
          "D",
          "E",
          "F",
          "G",
          "H",
          "I",
          "K",
          "L",
          "M",
          "N",
          "P",
          "Q",
          "R",
          "S",
          "T",
          "V",
          "W",
          "Y"
         ],
         "y": {
          "bdata": "AAAAAAAAAAAAAAoAAAAAAAAAAAAA",
          "dtype": "i1"
         }
        },
        {
         "name": "CTT",
         "type": "bar",
         "x": [
          "*",
          "A",
          "C",
          "D",
          "E",
          "F",
          "G",
          "H",
          "I",
          "K",
          "L",
          "M",
          "N",
          "P",
          "Q",
          "R",
          "S",
          "T",
          "V",
          "W",
          "Y"
         ],
         "y": {
          "bdata": "AAAAAAAAAAAAABcAAAAAAAAAAAAA",
          "dtype": "i1"
         }
        },
        {
         "name": "TTA",
         "type": "bar",
         "x": [
          "*",
          "A",
          "C",
          "D",
          "E",
          "F",
          "G",
          "H",
          "I",
          "K",
          "L",
          "M",
          "N",
          "P",
          "Q",
          "R",
          "S",
          "T",
          "V",
          "W",
          "Y"
         ],
         "y": {
          "bdata": "AAAAAAAAAAAAAAYAAAAAAAAAAAAA",
          "dtype": "i1"
         }
        },
        {
         "name": "TTG",
         "type": "bar",
         "x": [
          "*",
          "A",
          "C",
          "D",
          "E",
          "F",
          "G",
          "H",
          "I",
          "K",
          "L",
          "M",
          "N",
          "P",
          "Q",
          "R",
          "S",
          "T",
          "V",
          "W",
          "Y"
         ],
         "y": {
          "bdata": "AAAAAAAAAAAAABIAAAAAAAAAAAAA",
          "dtype": "i1"
         }
        },
        {
         "name": "ATG",
         "type": "bar",
         "x": [
          "*",
          "A",
          "C",
          "D",
          "E",
          "F",
          "G",
          "H",
          "I",
          "K",
          "L",
          "M",
          "N",
          "P",
          "Q",
          "R",
          "S",
          "T",
          "V",
          "W",
          "Y"
         ],
         "y": {
          "bdata": "AAAAAAAAAAAAAAAiAAAAAAAAAAAA",
          "dtype": "i1"
         }
        },
        {
         "name": "AAC",
         "type": "bar",
         "x": [
          "*",
          "A",
          "C",
          "D",
          "E",
          "F",
          "G",
          "H",
          "I",
          "K",
          "L",
          "M",
          "N",
          "P",
          "Q",
          "R",
          "S",
          "T",
          "V",
          "W",
          "Y"
         ],
         "y": {
          "bdata": "AAAAAAAAAAAAAAAAMwAAAAAAAAAA",
          "dtype": "i1"
         }
        },
        {
         "name": "AAT",
         "type": "bar",
         "x": [
          "*",
          "A",
          "C",
          "D",
          "E",
          "F",
          "G",
          "H",
          "I",
          "K",
          "L",
          "M",
          "N",
          "P",
          "Q",
          "R",
          "S",
          "T",
          "V",
          "W",
          "Y"
         ],
         "y": {
          "bdata": "AAAAAAAAAAAAAAAAAgAAAAAAAAAA",
          "dtype": "i1"
         }
        },
        {
         "name": "CCA",
         "type": "bar",
         "x": [
          "*",
          "A",
          "C",
          "D",
          "E",
          "F",
          "G",
          "H",
          "I",
          "K",
          "L",
          "M",
          "N",
          "P",
          "Q",
          "R",
          "S",
          "T",
          "V",
          "W",
          "Y"
         ],
         "y": {
          "bdata": "AAAAAAAAAAAAAAAAAAgAAAAAAAAA",
          "dtype": "i1"
         }
        },
        {
         "name": "CCG",
         "type": "bar",
         "x": [
          "*",
          "A",
          "C",
          "D",
          "E",
          "F",
          "G",
          "H",
          "I",
          "K",
          "L",
          "M",
          "N",
          "P",
          "Q",
          "R",
          "S",
          "T",
          "V",
          "W",
          "Y"
         ],
         "y": {
          "bdata": "AAAAAAAAAAAAAAAAAAQAAAAAAAAA",
          "dtype": "i1"
         }
        },
        {
         "name": "CCT",
         "type": "bar",
         "x": [
          "*",
          "A",
          "C",
          "D",
          "E",
          "F",
          "G",
          "H",
          "I",
          "K",
          "L",
          "M",
          "N",
          "P",
          "Q",
          "R",
          "S",
          "T",
          "V",
          "W",
          "Y"
         ],
         "y": {
          "bdata": "AAAAAAAAAAAAAAAAAAsAAAAAAAAA",
          "dtype": "i1"
         }
        },
        {
         "name": "CAA",
         "type": "bar",
         "x": [
          "*",
          "A",
          "C",
          "D",
          "E",
          "F",
          "G",
          "H",
          "I",
          "K",
          "L",
          "M",
          "N",
          "P",
          "Q",
          "R",
          "S",
          "T",
          "V",
          "W",
          "Y"
         ],
         "y": {
          "bdata": "AAAAAAAAAAAAAAAAAAAJAAAAAAAA",
          "dtype": "i1"
         }
        },
        {
         "name": "CAG",
         "type": "bar",
         "x": [
          "*",
          "A",
          "C",
          "D",
          "E",
          "F",
          "G",
          "H",
          "I",
          "K",
          "L",
          "M",
          "N",
          "P",
          "Q",
          "R",
          "S",
          "T",
          "V",
          "W",
          "Y"
         ],
         "y": {
          "bdata": "AAAAAAAAAAAAAAAAAAAZAAAAAAAA",
          "dtype": "i1"
         }
        },
        {
         "name": "AGA",
         "type": "bar",
         "x": [
          "*",
          "A",
          "C",
          "D",
          "E",
          "F",
          "G",
          "H",
          "I",
          "K",
          "L",
          "M",
          "N",
          "P",
          "Q",
          "R",
          "S",
          "T",
          "V",
          "W",
          "Y"
         ],
         "y": {
          "bdata": "AAAAAAAAAAAAAAAAAAAABgAAAAAA",
          "dtype": "i1"
         }
        },
        {
         "name": "AGG",
         "type": "bar",
         "x": [
          "*",
          "A",
          "C",
          "D",
          "E",
          "F",
          "G",
          "H",
          "I",
          "K",
          "L",
          "M",
          "N",
          "P",
          "Q",
          "R",
          "S",
          "T",
          "V",
          "W",
          "Y"
         ],
         "y": {
          "bdata": "AAAAAAAAAAAAAAAAAAAABQAAAAAA",
          "dtype": "i1"
         }
        },
        {
         "name": "CGA",
         "type": "bar",
         "x": [
          "*",
          "A",
          "C",
          "D",
          "E",
          "F",
          "G",
          "H",
          "I",
          "K",
          "L",
          "M",
          "N",
          "P",
          "Q",
          "R",
          "S",
          "T",
          "V",
          "W",
          "Y"
         ],
         "y": {
          "bdata": "AAAAAAAAAAAAAAAAAAAABwAAAAAA",
          "dtype": "i1"
         }
        },
        {
         "name": "CGG",
         "type": "bar",
         "x": [
          "*",
          "A",
          "C",
          "D",
          "E",
          "F",
          "G",
          "H",
          "I",
          "K",
          "L",
          "M",
          "N",
          "P",
          "Q",
          "R",
          "S",
          "T",
          "V",
          "W",
          "Y"
         ],
         "y": {
          "bdata": "AAAAAAAAAAAAAAAAAAAAEAAAAAAA",
          "dtype": "i1"
         }
        },
        {
         "name": "CGT",
         "type": "bar",
         "x": [
          "*",
          "A",
          "C",
          "D",
          "E",
          "F",
          "G",
          "H",
          "I",
          "K",
          "L",
          "M",
          "N",
          "P",
          "Q",
          "R",
          "S",
          "T",
          "V",
          "W",
          "Y"
         ],
         "y": {
          "bdata": "AAAAAAAAAAAAAAAAAAAACAAAAAAA",
          "dtype": "i1"
         }
        },
        {
         "name": "AGC",
         "type": "bar",
         "x": [
          "*",
          "A",
          "C",
          "D",
          "E",
          "F",
          "G",
          "H",
          "I",
          "K",
          "L",
          "M",
          "N",
          "P",
          "Q",
          "R",
          "S",
          "T",
          "V",
          "W",
          "Y"
         ],
         "y": {
          "bdata": "AAAAAAAAAAAAAAAAAAAAAAkAAAAA",
          "dtype": "i1"
         }
        },
        {
         "name": "TCA",
         "type": "bar",
         "x": [
          "*",
          "A",
          "C",
          "D",
          "E",
          "F",
          "G",
          "H",
          "I",
          "K",
          "L",
          "M",
          "N",
          "P",
          "Q",
          "R",
          "S",
          "T",
          "V",
          "W",
          "Y"
         ],
         "y": {
          "bdata": "AAAAAAAAAAAAAAAAAAAAAAQAAAAA",
          "dtype": "i1"
         }
        },
        {
         "name": "TCC",
         "type": "bar",
         "x": [
          "*",
          "A",
          "C",
          "D",
          "E",
          "F",
          "G",
          "H",
          "I",
          "K",
          "L",
          "M",
          "N",
          "P",
          "Q",
          "R",
          "S",
          "T",
          "V",
          "W",
          "Y"
         ],
         "y": {
          "bdata": "AAAAAAAAAAAAAAAAAAAAAAEAAAAA",
          "dtype": "i1"
         }
        },
        {
         "name": "TCG",
         "type": "bar",
         "x": [
          "*",
          "A",
          "C",
          "D",
          "E",
          "F",
          "G",
          "H",
          "I",
          "K",
          "L",
          "M",
          "N",
          "P",
          "Q",
          "R",
          "S",
          "T",
          "V",
          "W",
          "Y"
         ],
         "y": {
          "bdata": "AAAAAAAAAAAAAAAAAAAAAAQAAAAA",
          "dtype": "i1"
         }
        },
        {
         "name": "TCT",
         "type": "bar",
         "x": [
          "*",
          "A",
          "C",
          "D",
          "E",
          "F",
          "G",
          "H",
          "I",
          "K",
          "L",
          "M",
          "N",
          "P",
          "Q",
          "R",
          "S",
          "T",
          "V",
          "W",
          "Y"
         ],
         "y": {
          "bdata": "AAAAAAAAAAAAAAAAAAAAAAsAAAAA",
          "dtype": "i1"
         }
        },
        {
         "name": "ACA",
         "type": "bar",
         "x": [
          "*",
          "A",
          "C",
          "D",
          "E",
          "F",
          "G",
          "H",
          "I",
          "K",
          "L",
          "M",
          "N",
          "P",
          "Q",
          "R",
          "S",
          "T",
          "V",
          "W",
          "Y"
         ],
         "y": {
          "bdata": "AAAAAAAAAAAAAAAAAAAAAAAGAAAA",
          "dtype": "i1"
         }
        },
        {
         "name": "ACG",
         "type": "bar",
         "x": [
          "*",
          "A",
          "C",
          "D",
          "E",
          "F",
          "G",
          "H",
          "I",
          "K",
          "L",
          "M",
          "N",
          "P",
          "Q",
          "R",
          "S",
          "T",
          "V",
          "W",
          "Y"
         ],
         "y": {
          "bdata": "AAAAAAAAAAAAAAAAAAAAAAAHAAAA",
          "dtype": "i1"
         }
        },
        {
         "name": "ACT",
         "type": "bar",
         "x": [
          "*",
          "A",
          "C",
          "D",
          "E",
          "F",
          "G",
          "H",
          "I",
          "K",
          "L",
          "M",
          "N",
          "P",
          "Q",
          "R",
          "S",
          "T",
          "V",
          "W",
          "Y"
         ],
         "y": {
          "bdata": "AAAAAAAAAAAAAAAAAAAAAAANAAAA",
          "dtype": "i1"
         }
        },
        {
         "name": "GTA",
         "type": "bar",
         "x": [
          "*",
          "A",
          "C",
          "D",
          "E",
          "F",
          "G",
          "H",
          "I",
          "K",
          "L",
          "M",
          "N",
          "P",
          "Q",
          "R",
          "S",
          "T",
          "V",
          "W",
          "Y"
         ],
         "y": {
          "bdata": "AAAAAAAAAAAAAAAAAAAAAAAABgAA",
          "dtype": "i1"
         }
        },
        {
         "name": "GTG",
         "type": "bar",
         "x": [
          "*",
          "A",
          "C",
          "D",
          "E",
          "F",
          "G",
          "H",
          "I",
          "K",
          "L",
          "M",
          "N",
          "P",
          "Q",
          "R",
          "S",
          "T",
          "V",
          "W",
          "Y"
         ],
         "y": {
          "bdata": "AAAAAAAAAAAAAAAAAAAAAAAAGQAA",
          "dtype": "i1"
         }
        },
        {
         "name": "GTT",
         "type": "bar",
         "x": [
          "*",
          "A",
          "C",
          "D",
          "E",
          "F",
          "G",
          "H",
          "I",
          "K",
          "L",
          "M",
          "N",
          "P",
          "Q",
          "R",
          "S",
          "T",
          "V",
          "W",
          "Y"
         ],
         "y": {
          "bdata": "AAAAAAAAAAAAAAAAAAAAAAAAEQAA",
          "dtype": "i1"
         }
        },
        {
         "name": "TGG",
         "type": "bar",
         "x": [
          "*",
          "A",
          "C",
          "D",
          "E",
          "F",
          "G",
          "H",
          "I",
          "K",
          "L",
          "M",
          "N",
          "P",
          "Q",
          "R",
          "S",
          "T",
          "V",
          "W",
          "Y"
         ],
         "y": {
          "bdata": "AAAAAAAAAAAAAAAAAAAAAAAAAAcA",
          "dtype": "i1"
         }
        },
        {
         "name": "TAC",
         "type": "bar",
         "x": [
          "*",
          "A",
          "C",
          "D",
          "E",
          "F",
          "G",
          "H",
          "I",
          "K",
          "L",
          "M",
          "N",
          "P",
          "Q",
          "R",
          "S",
          "T",
          "V",
          "W",
          "Y"
         ],
         "y": {
          "bdata": "AAAAAAAAAAAAAAAAAAAAAAAAAAAT",
          "dtype": "i1"
         }
        },
        {
         "name": "TAT",
         "type": "bar",
         "x": [
          "*",
          "A",
          "C",
          "D",
          "E",
          "F",
          "G",
          "H",
          "I",
          "K",
          "L",
          "M",
          "N",
          "P",
          "Q",
          "R",
          "S",
          "T",
          "V",
          "W",
          "Y"
         ],
         "y": {
          "bdata": "AAAAAAAAAAAAAAAAAAAAAAAAAAAB",
          "dtype": "i1"
         }
        }
       ],
       "layout": {
        "barmode": "stack",
        "height": 700,
        "template": {
         "data": {
          "bar": [
           {
            "error_x": {
             "color": "#2a3f5f"
            },
            "error_y": {
             "color": "#2a3f5f"
            },
            "marker": {
             "line": {
              "color": "#E5ECF6",
              "width": 0.5
             },
             "pattern": {
              "fillmode": "overlay",
              "size": 10,
              "solidity": 0.2
             }
            },
            "type": "bar"
           }
          ],
          "barpolar": [
           {
            "marker": {
             "line": {
              "color": "#E5ECF6",
              "width": 0.5
             },
             "pattern": {
              "fillmode": "overlay",
              "size": 10,
              "solidity": 0.2
             }
            },
            "type": "barpolar"
           }
          ],
          "carpet": [
           {
            "aaxis": {
             "endlinecolor": "#2a3f5f",
             "gridcolor": "white",
             "linecolor": "white",
             "minorgridcolor": "white",
             "startlinecolor": "#2a3f5f"
            },
            "baxis": {
             "endlinecolor": "#2a3f5f",
             "gridcolor": "white",
             "linecolor": "white",
             "minorgridcolor": "white",
             "startlinecolor": "#2a3f5f"
            },
            "type": "carpet"
           }
          ],
          "choropleth": [
           {
            "colorbar": {
             "outlinewidth": 0,
             "ticks": ""
            },
            "type": "choropleth"
           }
          ],
          "contour": [
           {
            "colorbar": {
             "outlinewidth": 0,
             "ticks": ""
            },
            "colorscale": [
             [
              0,
              "#0d0887"
             ],
             [
              0.1111111111111111,
              "#46039f"
             ],
             [
              0.2222222222222222,
              "#7201a8"
             ],
             [
              0.3333333333333333,
              "#9c179e"
             ],
             [
              0.4444444444444444,
              "#bd3786"
             ],
             [
              0.5555555555555556,
              "#d8576b"
             ],
             [
              0.6666666666666666,
              "#ed7953"
             ],
             [
              0.7777777777777778,
              "#fb9f3a"
             ],
             [
              0.8888888888888888,
              "#fdca26"
             ],
             [
              1,
              "#f0f921"
             ]
            ],
            "type": "contour"
           }
          ],
          "contourcarpet": [
           {
            "colorbar": {
             "outlinewidth": 0,
             "ticks": ""
            },
            "type": "contourcarpet"
           }
          ],
          "heatmap": [
           {
            "colorbar": {
             "outlinewidth": 0,
             "ticks": ""
            },
            "colorscale": [
             [
              0,
              "#0d0887"
             ],
             [
              0.1111111111111111,
              "#46039f"
             ],
             [
              0.2222222222222222,
              "#7201a8"
             ],
             [
              0.3333333333333333,
              "#9c179e"
             ],
             [
              0.4444444444444444,
              "#bd3786"
             ],
             [
              0.5555555555555556,
              "#d8576b"
             ],
             [
              0.6666666666666666,
              "#ed7953"
             ],
             [
              0.7777777777777778,
              "#fb9f3a"
             ],
             [
              0.8888888888888888,
              "#fdca26"
             ],
             [
              1,
              "#f0f921"
             ]
            ],
            "type": "heatmap"
           }
          ],
          "histogram": [
           {
            "marker": {
             "pattern": {
              "fillmode": "overlay",
              "size": 10,
              "solidity": 0.2
             }
            },
            "type": "histogram"
           }
          ],
          "histogram2d": [
           {
            "colorbar": {
             "outlinewidth": 0,
             "ticks": ""
            },
            "colorscale": [
             [
              0,
              "#0d0887"
             ],
             [
              0.1111111111111111,
              "#46039f"
             ],
             [
              0.2222222222222222,
              "#7201a8"
             ],
             [
              0.3333333333333333,
              "#9c179e"
             ],
             [
              0.4444444444444444,
              "#bd3786"
             ],
             [
              0.5555555555555556,
              "#d8576b"
             ],
             [
              0.6666666666666666,
              "#ed7953"
             ],
             [
              0.7777777777777778,
              "#fb9f3a"
             ],
             [
              0.8888888888888888,
              "#fdca26"
             ],
             [
              1,
              "#f0f921"
             ]
            ],
            "type": "histogram2d"
           }
          ],
          "histogram2dcontour": [
           {
            "colorbar": {
             "outlinewidth": 0,
             "ticks": ""
            },
            "colorscale": [
             [
              0,
              "#0d0887"
             ],
             [
              0.1111111111111111,
              "#46039f"
             ],
             [
              0.2222222222222222,
              "#7201a8"
             ],
             [
              0.3333333333333333,
              "#9c179e"
             ],
             [
              0.4444444444444444,
              "#bd3786"
             ],
             [
              0.5555555555555556,
              "#d8576b"
             ],
             [
              0.6666666666666666,
              "#ed7953"
             ],
             [
              0.7777777777777778,
              "#fb9f3a"
             ],
             [
              0.8888888888888888,
              "#fdca26"
             ],
             [
              1,
              "#f0f921"
             ]
            ],
            "type": "histogram2dcontour"
           }
          ],
          "mesh3d": [
           {
            "colorbar": {
             "outlinewidth": 0,
             "ticks": ""
            },
            "type": "mesh3d"
           }
          ],
          "parcoords": [
           {
            "line": {
             "colorbar": {
              "outlinewidth": 0,
              "ticks": ""
             }
            },
            "type": "parcoords"
           }
          ],
          "pie": [
           {
            "automargin": true,
            "type": "pie"
           }
          ],
          "scatter": [
           {
            "fillpattern": {
             "fillmode": "overlay",
             "size": 10,
             "solidity": 0.2
            },
            "type": "scatter"
           }
          ],
          "scatter3d": [
           {
            "line": {
             "colorbar": {
              "outlinewidth": 0,
              "ticks": ""
             }
            },
            "marker": {
             "colorbar": {
              "outlinewidth": 0,
              "ticks": ""
             }
            },
            "type": "scatter3d"
           }
          ],
          "scattercarpet": [
           {
            "marker": {
             "colorbar": {
              "outlinewidth": 0,
              "ticks": ""
             }
            },
            "type": "scattercarpet"
           }
          ],
          "scattergeo": [
           {
            "marker": {
             "colorbar": {
              "outlinewidth": 0,
              "ticks": ""
             }
            },
            "type": "scattergeo"
           }
          ],
          "scattergl": [
           {
            "marker": {
             "colorbar": {
              "outlinewidth": 0,
              "ticks": ""
             }
            },
            "type": "scattergl"
           }
          ],
          "scattermap": [
           {
            "marker": {
             "colorbar": {
              "outlinewidth": 0,
              "ticks": ""
             }
            },
            "type": "scattermap"
           }
          ],
          "scattermapbox": [
           {
            "marker": {
             "colorbar": {
              "outlinewidth": 0,
              "ticks": ""
             }
            },
            "type": "scattermapbox"
           }
          ],
          "scatterpolar": [
           {
            "marker": {
             "colorbar": {
              "outlinewidth": 0,
              "ticks": ""
             }
            },
            "type": "scatterpolar"
           }
          ],
          "scatterpolargl": [
           {
            "marker": {
             "colorbar": {
              "outlinewidth": 0,
              "ticks": ""
             }
            },
            "type": "scatterpolargl"
           }
          ],
          "scatterternary": [
           {
            "marker": {
             "colorbar": {
              "outlinewidth": 0,
              "ticks": ""
             }
            },
            "type": "scatterternary"
           }
          ],
          "surface": [
           {
            "colorbar": {
             "outlinewidth": 0,
             "ticks": ""
            },
            "colorscale": [
             [
              0,
              "#0d0887"
             ],
             [
              0.1111111111111111,
              "#46039f"
             ],
             [
              0.2222222222222222,
              "#7201a8"
             ],
             [
              0.3333333333333333,
              "#9c179e"
             ],
             [
              0.4444444444444444,
              "#bd3786"
             ],
             [
              0.5555555555555556,
              "#d8576b"
             ],
             [
              0.6666666666666666,
              "#ed7953"
             ],
             [
              0.7777777777777778,
              "#fb9f3a"
             ],
             [
              0.8888888888888888,
              "#fdca26"
             ],
             [
              1,
              "#f0f921"
             ]
            ],
            "type": "surface"
           }
          ],
          "table": [
           {
            "cells": {
             "fill": {
              "color": "#EBF0F8"
             },
             "line": {
              "color": "white"
             }
            },
            "header": {
             "fill": {
              "color": "#C8D4E3"
             },
             "line": {
              "color": "white"
             }
            },
            "type": "table"
           }
          ]
         },
         "layout": {
          "annotationdefaults": {
           "arrowcolor": "#2a3f5f",
           "arrowhead": 0,
           "arrowwidth": 1
          },
          "autotypenumbers": "strict",
          "coloraxis": {
           "colorbar": {
            "outlinewidth": 0,
            "ticks": ""
           }
          },
          "colorscale": {
           "diverging": [
            [
             0,
             "#8e0152"
            ],
            [
             0.1,
             "#c51b7d"
            ],
            [
             0.2,
             "#de77ae"
            ],
            [
             0.3,
             "#f1b6da"
            ],
            [
             0.4,
             "#fde0ef"
            ],
            [
             0.5,
             "#f7f7f7"
            ],
            [
             0.6,
             "#e6f5d0"
            ],
            [
             0.7,
             "#b8e186"
            ],
            [
             0.8,
             "#7fbc41"
            ],
            [
             0.9,
             "#4d9221"
            ],
            [
             1,
             "#276419"
            ]
           ],
           "sequential": [
            [
             0,
             "#0d0887"
            ],
            [
             0.1111111111111111,
             "#46039f"
            ],
            [
             0.2222222222222222,
             "#7201a8"
            ],
            [
             0.3333333333333333,
             "#9c179e"
            ],
            [
             0.4444444444444444,
             "#bd3786"
            ],
            [
             0.5555555555555556,
             "#d8576b"
            ],
            [
             0.6666666666666666,
             "#ed7953"
            ],
            [
             0.7777777777777778,
             "#fb9f3a"
            ],
            [
             0.8888888888888888,
             "#fdca26"
            ],
            [
             1,
             "#f0f921"
            ]
           ],
           "sequentialminus": [
            [
             0,
             "#0d0887"
            ],
            [
             0.1111111111111111,
             "#46039f"
            ],
            [
             0.2222222222222222,
             "#7201a8"
            ],
            [
             0.3333333333333333,
             "#9c179e"
            ],
            [
             0.4444444444444444,
             "#bd3786"
            ],
            [
             0.5555555555555556,
             "#d8576b"
            ],
            [
             0.6666666666666666,
             "#ed7953"
            ],
            [
             0.7777777777777778,
             "#fb9f3a"
            ],
            [
             0.8888888888888888,
             "#fdca26"
            ],
            [
             1,
             "#f0f921"
            ]
           ]
          },
          "colorway": [
           "#636efa",
           "#EF553B",
           "#00cc96",
           "#ab63fa",
           "#FFA15A",
           "#19d3f3",
           "#FF6692",
           "#B6E880",
           "#FF97FF",
           "#FECB52"
          ],
          "font": {
           "color": "#2a3f5f"
          },
          "geo": {
           "bgcolor": "white",
           "lakecolor": "white",
           "landcolor": "#E5ECF6",
           "showlakes": true,
           "showland": true,
           "subunitcolor": "white"
          },
          "hoverlabel": {
           "align": "left"
          },
          "hovermode": "closest",
          "mapbox": {
           "style": "light"
          },
          "paper_bgcolor": "white",
          "plot_bgcolor": "#E5ECF6",
          "polar": {
           "angularaxis": {
            "gridcolor": "white",
            "linecolor": "white",
            "ticks": ""
           },
           "bgcolor": "#E5ECF6",
           "radialaxis": {
            "gridcolor": "white",
            "linecolor": "white",
            "ticks": ""
           }
          },
          "scene": {
           "xaxis": {
            "backgroundcolor": "#E5ECF6",
            "gridcolor": "white",
            "gridwidth": 2,
            "linecolor": "white",
            "showbackground": true,
            "ticks": "",
            "zerolinecolor": "white"
           },
           "yaxis": {
            "backgroundcolor": "#E5ECF6",
            "gridcolor": "white",
            "gridwidth": 2,
            "linecolor": "white",
            "showbackground": true,
            "ticks": "",
            "zerolinecolor": "white"
           },
           "zaxis": {
            "backgroundcolor": "#E5ECF6",
            "gridcolor": "white",
            "gridwidth": 2,
            "linecolor": "white",
            "showbackground": true,
            "ticks": "",
            "zerolinecolor": "white"
           }
          },
          "shapedefaults": {
           "line": {
            "color": "#2a3f5f"
           }
          },
          "ternary": {
           "aaxis": {
            "gridcolor": "white",
            "linecolor": "white",
            "ticks": ""
           },
           "baxis": {
            "gridcolor": "white",
            "linecolor": "white",
            "ticks": ""
           },
           "bgcolor": "#E5ECF6",
           "caxis": {
            "gridcolor": "white",
            "linecolor": "white",
            "ticks": ""
           }
          },
          "title": {
           "x": 0.05
          },
          "xaxis": {
           "automargin": true,
           "gridcolor": "white",
           "linecolor": "white",
           "ticks": "",
           "title": {
            "standoff": 15
           },
           "zerolinecolor": "white",
           "zerolinewidth": 2
          },
          "yaxis": {
           "automargin": true,
           "gridcolor": "white",
           "linecolor": "white",
           "ticks": "",
           "title": {
            "standoff": 15
           },
           "zerolinecolor": "white",
           "zerolinewidth": 2
          }
         }
        },
        "title": {
         "text": "Codon Usage per Amino Acid"
        },
        "width": 1000,
        "xaxis": {
         "title": {
          "text": "Amino Acid"
         }
        },
        "yaxis": {
         "title": {
          "text": "Count"
         }
        }
       }
      }
     },
     "metadata": {},
     "output_type": "display_data"
    }
   ],
   "source": [
    "import pandas as pd\n",
    "import matplotlib.pyplot as plt\n",
    "from collections import Counter\n",
    "from Bio.Seq import Seq\n",
    "from Bio.Data.IUPACData import protein_letters_3to1\n",
    "\n",
    "codon2aa = {\n",
    "    'ATA':'I', 'ATC':'I', 'ATT':'I', 'ATG':'M',\n",
    "    'ACA':'T', 'ACC':'T', 'ACG':'T', 'ACT':'T',\n",
    "    'AAC':'N', 'AAT':'N', 'AAA':'K', 'AAG':'K',\n",
    "    'AGC':'S', 'AGT':'S', 'AGA':'R', 'AGG':'R',                 \n",
    "    'CTA':'L', 'CTC':'L', 'CTG':'L', 'CTT':'L',\n",
    "    'CCA':'P', 'CCC':'P', 'CCG':'P', 'CCT':'P',\n",
    "    'CAC':'H', 'CAT':'H', 'CAA':'Q', 'CAG':'Q',\n",
    "    'CGA':'R', 'CGC':'R', 'CGG':'R', 'CGT':'R',\n",
    "    'GTA':'V', 'GTC':'V', 'GTG':'V', 'GTT':'V',\n",
    "    'GCA':'A', 'GCC':'A', 'GCG':'A', 'GCT':'A',\n",
    "    'GAC':'D', 'GAT':'D', 'GAA':'E', 'GAG':'E',\n",
    "    'GGA':'G', 'GGC':'G', 'GGG':'G', 'GGT':'G',\n",
    "    'TCA':'S', 'TCC':'S', 'TCG':'S', 'TCT':'S',\n",
    "    'TTC':'F', 'TTT':'F', 'TTA':'L', 'TTG':'L',\n",
    "    'TAC':'Y', 'TAT':'Y', 'TAA':'*', 'TAG':'*',\n",
    "    'TGC':'C', 'TGT':'C', 'TGA':'*', 'TGG':'W'\n",
    "}\n",
    "\n",
    "# Load the tRNAscan.\n",
    "df = pd.read_csv('./data_assignment/GCF_000001405.40_GRCh38.p14_genomic.tRNAscan.out', sep='\\t', header=1, skiprows=[2])\n",
    "df_notpseudo = df[~df.iloc[:, -1].str.contains(\"pseudo\", na=False)].copy()\n",
    "df_notpseudo['Codon'] = df_notpseudo['Codon'].apply(lambda x: str(Seq(x).reverse_complement()) if pd.notna(x) else x)\n",
    "\n",
    "# If the annotation contains \"iMet\" (initiator methionine), assign 'M'\n",
    "annotation_col = df_notpseudo.columns[-1] \n",
    "\n",
    "def map_aa(row):\n",
    "    if \"iMet\" in str(row[annotation_col]):\n",
    "        return 'M'\n",
    "    else:\n",
    "        return codon2aa.get(row['Codon'], None)\n",
    "\n",
    "df_notpseudo['aa'] = df_notpseudo.apply(map_aa, axis=1)\n",
    "\n",
    "optimal_dict = {}\n",
    "for aa, group in df_notpseudo.groupby('aa'):\n",
    "    codon_opt = group['Codon'].value_counts().idxmax() # Get the most frequent codon for each amino acid\n",
    "    optimal_dict[aa] = codon_opt\n",
    "print(\"\\nOptimal codon per amino acid:\")\n",
    "print(optimal_dict)\n",
    "\n",
    "# Plotting\n",
    "codon_usage = df_notpseudo.groupby(['aa', 'Codon']).size().unstack(fill_value=0)\n",
    "import plotly.graph_objects as go\n",
    "fig = go.Figure()\n",
    "\n",
    "for codon in codon_usage.columns:\n",
    "    fig.add_trace(go.Bar(\n",
    "        x=codon_usage.index,  \n",
    "        y=codon_usage[codon], \n",
    "        name=codon             \n",
    "    ))\n",
    "\n",
    "fig.update_layout(\n",
    "    barmode='stack',\n",
    "    title='Codon Usage per Amino Acid',\n",
    "    xaxis_title='Amino Acid',\n",
    "    yaxis_title='Count',\n",
    "    width=1000,   \n",
    "    height=700\n",
    ")\n",
    "\n",
    "fig.show()"
   ]
  },
  {
   "cell_type": "markdown",
   "id": "759f2e53",
   "metadata": {},
   "source": [
    "### Parsing CDS FASTA to Extract Longest Transcript per Gene\n",
    "\n",
    "**Objective:**  \n",
    "Process a gzipped FASTA file containing coding sequences (CDS) from the human genome, extract the gene identifier from the header, and retain only the longest sequence per gene.\n",
    "\n",
    "**Output:**\n",
    "- Total number of CDS records\n",
    "- Number of sequences starting with `ATG`\n",
    "- Dictionary mapping gene names to their longest CDS sequence\n",
    "\n",
    "**Utilizing:**\n",
    "- `GCF_000001405.40_GRCh38.p14_cds_from_genomic.fna.gz`\n"
   ]
  },
  {
   "cell_type": "code",
   "execution_count": 47,
   "id": "eda3813d",
   "metadata": {},
   "outputs": [
    {
     "name": "stdout",
     "output_type": "stream",
     "text": [
      "Total records: 145439\n",
      "Records starting with ATG: 144555\n",
      "Difference: 884\n"
     ]
    }
   ],
   "source": [
    "import gzip\n",
    "import re\n",
    "\n",
    "def process_fasta(filename):\n",
    "    \"\"\"\n",
    "    Process a gzipped FASTA file and extracts records,\n",
    "    keeping only the longest sequence for each gene identifier.\n",
    "    Uses the gene name from the header (e.g., OR4F5) as the identifier.\n",
    "    \n",
    "    Input:\n",
    "        filename: Path to the gzipped FASTA file.\n",
    "    \n",
    "    Returns:\n",
    "        total_records (int): Total number of records in the file.\n",
    "        atg_start (int): Number of records with sequences starting with 'ATG'.\n",
    "        human (dict): Dictionary mapping gene identifiers to the longest sequence.\n",
    "    \"\"\"\n",
    "    total_records = 0\n",
    "    atg_start = 0\n",
    "    human = {}  # Maps gene identifier to longest sequence\n",
    "\n",
    "    current_header = None\n",
    "    current_sequence = \"\"\n",
    "\n",
    "    with gzip.open(filename, \"rt\") as f:\n",
    "        for line in f:\n",
    "            line = line.strip()\n",
    "            if line.startswith('>'):\n",
    "                if current_header is not None:\n",
    "                    total_records += 1\n",
    "                    # Extract gene identifier using regex to capture text within [gene=...] \n",
    "                    match = re.search(r'\\[gene=([^]]+)\\]', current_header)\n",
    "                    gene_id = match.group(1) if match else current_header.split()[0][1:]\n",
    "                    \n",
    "                    if current_sequence.startswith(\"ATG\"):\n",
    "                        atg_start += 1\n",
    "\n",
    "                    # Keep only the longest sequence for this gene_id\n",
    "                    if gene_id in human:\n",
    "                        if len(current_sequence) > len(human[gene_id]):\n",
    "                            human[gene_id] = current_sequence\n",
    "                    else:\n",
    "                        human[gene_id] = current_sequence\n",
    "\n",
    "                # Begin a new record with a new header\n",
    "                current_header = line\n",
    "                current_sequence = \"\"\n",
    "            else:\n",
    "                current_sequence += line\n",
    "\n",
    "        # Process the final record after the loop finishes\n",
    "        if current_header is not None:\n",
    "            total_records += 1\n",
    "            match = re.search(r'\\[gene=([^]]+)\\]', current_header)\n",
    "            gene_id = match.group(1) if match else current_header.split()[0][1:]\n",
    "            \n",
    "            if current_sequence.startswith(\"ATG\"):\n",
    "                atg_start += 1\n",
    "                \n",
    "            if gene_id in human:\n",
    "                if len(current_sequence) > len(human[gene_id]):\n",
    "                    human[gene_id] = current_sequence\n",
    "            else:\n",
    "                human[gene_id] = current_sequence\n",
    "\n",
    "    return total_records, atg_start, human\n",
    "\n",
    "# Example usage:\n",
    "filename = \"./data_assignment/GCF_000001405.40_GRCh38.p14_cds_from_genomic.fna.gz\"\n",
    "total_records, atg_start, human = process_fasta(filename)\n",
    "print(\"Total records:\", total_records)\n",
    "print(\"Records starting with ATG:\", atg_start)\n",
    "print(\"Difference:\", total_records - atg_start)"
   ]
  },
  {
   "cell_type": "markdown",
   "id": "b4f1ce7a",
   "metadata": {},
   "source": [
    "### Assessing Optimal Codon Usage Across All Genes\n",
    "\n",
    "**Objective:**  \n",
    "Evaluate the codon optimization of the entire human gene set by calculating the proportion of optimal codons used in each gene’s coding sequence.\n",
    "\n",
    "**Output:**\n",
    "- DataFrame listing each gene and its optimal codon usage ratio  \n",
    "- Median optimal codon usage ratio across all genes  \n",
    "- Numpy array of individual ratios (optional for downstream analysis)\n",
    "\n",
    "**Utilizing:**\n",
    "- Longest CDS sequences per gene (`human`)  \n",
    "- Optimal codon dictionary (`optimal_dict`)  \n",
    "- Full gene list: `genes = list(human.keys())`"
   ]
  },
  {
   "cell_type": "code",
   "execution_count": 48,
   "id": "7c2fe34b",
   "metadata": {},
   "outputs": [],
   "source": [
    "import numpy as np\n",
    "import pandas as pd\n",
    "from statistics import median\n",
    "from tqdm import tqdm\n",
    "import re\n",
    "def optimal_codons_gene(gene, dic=human, codons=optimal_dict):\n",
    "    \"\"\"\n",
    "    Calculate the ratio of optimal codon usage for a given gene.\n",
    "    Input:\n",
    "        gene: Gene name (string).\n",
    "        dic: Dictionary mapping gene names to sequences.\n",
    "        codons: Dictionary of optimal codons.\n",
    "    Returns:\n",
    "        ratio: Ratio of optimal codon usage for a gene.\n",
    "    \"\"\"\n",
    "    # Look up the sequence using gene name\n",
    "    sequence = dic[gene]\n",
    "    #if len(sequence) % 3 != 0:\n",
    "    #    print(\"Captured Seq doesn't appear to be an open reading frame (not divisible by 3)\") # Commented out to avoid unecessary printing since this info is not utilzied\n",
    "    \n",
    "    codon_list = [sequence[i:i+3] for i in range(0, len(sequence), 3)]\n",
    "    \n",
    "    optimal_count = sum(1 for codon in codon_list if codon in codons.values())\n",
    "    \n",
    "    total_codons = len(codon_list)\n",
    "    ratio = optimal_count / total_codons\n",
    "    return ratio\n",
    "\n",
    "def median_optimal_codon_usage(gene_list, seq_dict=human, codons=optimal_dict):\n",
    "    \"\"\"\n",
    "    Calculate the median optimal codon usage ratio for a list of genes.\n",
    "    Input:\n",
    "        gene_list: List of gene names.\n",
    "        seq_dict: Dictionary mapping gene names to sequences.\n",
    "        codons: Dictionary of optimal codons.\n",
    "    Returns:\n",
    "        median_val: Median optimal codon usage ratio.\n",
    "        ratios_array: Array of optimal codon usage ratios across genes.\n",
    "        df: DataFrame with gene names and their corresponding ratios.\n",
    "    \"\"\"\n",
    "    ratios = []\n",
    "    gene_names = []\n",
    "\n",
    "    for gene in tqdm(gene_list, desc=\"Processing genes\"):\n",
    "        try:\n",
    "            ratio = optimal_codons_gene(gene, dic=seq_dict, codons=codons)\n",
    "            gene_name = gene\n",
    "            ratios.append(ratio)\n",
    "            gene_names.append(gene_name)\n",
    "        except ValueError as e:\n",
    "            print(e)\n",
    "            continue\n",
    "    \n",
    "    ratios_array = np.array(ratios)\n",
    "    median_val = median(ratios)\n",
    "\n",
    "    df = pd.DataFrame({\n",
    "        'Gene': gene_names,\n",
    "        'Optimal_Codon_Usage_Ratio': ratios\n",
    "    })\n",
    "\n",
    "    return median_val, ratios_array, df\n"
   ]
  },
  {
   "cell_type": "code",
   "execution_count": 49,
   "id": "688ecd60",
   "metadata": {},
   "outputs": [
    {
     "name": "stderr",
     "output_type": "stream",
     "text": [
      "Processing genes: 100%|██████████| 20675/20675 [00:04<00:00, 4659.33it/s]\n"
     ]
    },
    {
     "data": {
      "text/html": [
       "<div>\n",
       "<style scoped>\n",
       "    .dataframe tbody tr th:only-of-type {\n",
       "        vertical-align: middle;\n",
       "    }\n",
       "\n",
       "    .dataframe tbody tr th {\n",
       "        vertical-align: top;\n",
       "    }\n",
       "\n",
       "    .dataframe thead th {\n",
       "        text-align: right;\n",
       "    }\n",
       "</style>\n",
       "<table border=\"1\" class=\"dataframe\">\n",
       "  <thead>\n",
       "    <tr style=\"text-align: right;\">\n",
       "      <th></th>\n",
       "      <th>Gene</th>\n",
       "      <th>Optimal_Codon_Usage_Ratio</th>\n",
       "    </tr>\n",
       "  </thead>\n",
       "  <tbody>\n",
       "    <tr>\n",
       "      <th>0</th>\n",
       "      <td>OR4F5</td>\n",
       "      <td>0.394495</td>\n",
       "    </tr>\n",
       "    <tr>\n",
       "      <th>1</th>\n",
       "      <td>LOC112268260</td>\n",
       "      <td>0.351931</td>\n",
       "    </tr>\n",
       "    <tr>\n",
       "      <th>2</th>\n",
       "      <td>OR4F29</td>\n",
       "      <td>0.389776</td>\n",
       "    </tr>\n",
       "    <tr>\n",
       "      <th>3</th>\n",
       "      <td>LOC105378947</td>\n",
       "      <td>0.335553</td>\n",
       "    </tr>\n",
       "    <tr>\n",
       "      <th>4</th>\n",
       "      <td>OR4F16</td>\n",
       "      <td>0.389776</td>\n",
       "    </tr>\n",
       "    <tr>\n",
       "      <th>...</th>\n",
       "      <td>...</td>\n",
       "      <td>...</td>\n",
       "    </tr>\n",
       "    <tr>\n",
       "      <th>20670</th>\n",
       "      <td>ND4L</td>\n",
       "      <td>0.252525</td>\n",
       "    </tr>\n",
       "    <tr>\n",
       "      <th>20671</th>\n",
       "      <td>ND4</td>\n",
       "      <td>0.304348</td>\n",
       "    </tr>\n",
       "    <tr>\n",
       "      <th>20672</th>\n",
       "      <td>ND5</td>\n",
       "      <td>0.317881</td>\n",
       "    </tr>\n",
       "    <tr>\n",
       "      <th>20673</th>\n",
       "      <td>ND6</td>\n",
       "      <td>0.434286</td>\n",
       "    </tr>\n",
       "    <tr>\n",
       "      <th>20674</th>\n",
       "      <td>CYTB</td>\n",
       "      <td>0.296588</td>\n",
       "    </tr>\n",
       "  </tbody>\n",
       "</table>\n",
       "<p>20675 rows × 2 columns</p>\n",
       "</div>"
      ],
      "text/plain": [
       "               Gene  Optimal_Codon_Usage_Ratio\n",
       "0             OR4F5                   0.394495\n",
       "1      LOC112268260                   0.351931\n",
       "2            OR4F29                   0.389776\n",
       "3      LOC105378947                   0.335553\n",
       "4            OR4F16                   0.389776\n",
       "...             ...                        ...\n",
       "20670          ND4L                   0.252525\n",
       "20671           ND4                   0.304348\n",
       "20672           ND5                   0.317881\n",
       "20673           ND6                   0.434286\n",
       "20674          CYTB                   0.296588\n",
       "\n",
       "[20675 rows x 2 columns]"
      ]
     },
     "execution_count": 49,
     "metadata": {},
     "output_type": "execute_result"
    }
   ],
   "source": [
    "genes=list(human.keys())\n",
    "results_median, results_ratios, df_results = median_optimal_codon_usage(genes)\n",
    "df_results\n"
   ]
  },
  {
   "cell_type": "markdown",
   "id": "c53519e5",
   "metadata": {},
   "source": [
    "### Correlating Codon Usage with Gene Expression\n",
    "\n",
    "**Objective:**  \n",
    "Assess whether there's a relationship between codon optimization and gene expression levels by correlating optimal codon usage ratios with RPKM values.\n",
    "\n",
    "**Process:**\n",
    "- Merge codon usage ratios (`df_results`) with RPKM data (`rpkm`) using gene symbols  \n",
    "- Remove genes without codon usage data  \n",
    "- Compute Pearson correlation between codon usage and RPKM  \n",
    "- Visualize the relationship using a scatter plot\n",
    "\n",
    "**Output:**\n",
    "- Pearson correlation coefficient and p-value  \n",
    "- Scatter plot: Optimal Codon Usage Ratio vs. RPKM\n",
    "\n",
    "**Utilizing:**\n",
    "- `df_results` (codon usage ratios)  \n",
    "- `rpkm` (gene expression values)  \n",
    "- `scipy.stats.pearsonr` for correlation  \n",
    "- `matplotlib` and `seaborn` for visualization\n"
   ]
  },
  {
   "cell_type": "code",
   "execution_count": 55,
   "id": "7de94a16",
   "metadata": {},
   "outputs": [
    {
     "name": "stdout",
     "output_type": "stream",
     "text": [
      "Requirement already satisfied: scipy in /home/georgekousis6/miniconda3/envs/mat/lib/python3.13/site-packages (1.15.2)\n",
      "Requirement already satisfied: seaborn in /home/georgekousis6/miniconda3/envs/mat/lib/python3.13/site-packages (0.13.2)\n",
      "Requirement already satisfied: numpy<2.5,>=1.23.5 in /home/georgekousis6/miniconda3/envs/mat/lib/python3.13/site-packages (from scipy) (2.2.4)\n",
      "Requirement already satisfied: pandas>=1.2 in /home/georgekousis6/miniconda3/envs/mat/lib/python3.13/site-packages (from seaborn) (2.2.3)\n",
      "Requirement already satisfied: matplotlib!=3.6.1,>=3.4 in /home/georgekousis6/miniconda3/envs/mat/lib/python3.13/site-packages (from seaborn) (3.10.1)\n",
      "Requirement already satisfied: contourpy>=1.0.1 in /home/georgekousis6/miniconda3/envs/mat/lib/python3.13/site-packages (from matplotlib!=3.6.1,>=3.4->seaborn) (1.3.1)\n",
      "Requirement already satisfied: cycler>=0.10 in /home/georgekousis6/miniconda3/envs/mat/lib/python3.13/site-packages (from matplotlib!=3.6.1,>=3.4->seaborn) (0.12.1)\n",
      "Requirement already satisfied: fonttools>=4.22.0 in /home/georgekousis6/miniconda3/envs/mat/lib/python3.13/site-packages (from matplotlib!=3.6.1,>=3.4->seaborn) (4.57.0)\n",
      "Requirement already satisfied: kiwisolver>=1.3.1 in /home/georgekousis6/miniconda3/envs/mat/lib/python3.13/site-packages (from matplotlib!=3.6.1,>=3.4->seaborn) (1.4.8)\n",
      "Requirement already satisfied: packaging>=20.0 in /home/georgekousis6/miniconda3/envs/mat/lib/python3.13/site-packages (from matplotlib!=3.6.1,>=3.4->seaborn) (24.2)\n",
      "Requirement already satisfied: pillow>=8 in /home/georgekousis6/miniconda3/envs/mat/lib/python3.13/site-packages (from matplotlib!=3.6.1,>=3.4->seaborn) (11.2.1)\n",
      "Requirement already satisfied: pyparsing>=2.3.1 in /home/georgekousis6/miniconda3/envs/mat/lib/python3.13/site-packages (from matplotlib!=3.6.1,>=3.4->seaborn) (3.2.3)\n",
      "Requirement already satisfied: python-dateutil>=2.7 in /home/georgekousis6/miniconda3/envs/mat/lib/python3.13/site-packages (from matplotlib!=3.6.1,>=3.4->seaborn) (2.9.0.post0)\n",
      "Requirement already satisfied: pytz>=2020.1 in /home/georgekousis6/miniconda3/envs/mat/lib/python3.13/site-packages (from pandas>=1.2->seaborn) (2025.2)\n",
      "Requirement already satisfied: tzdata>=2022.7 in /home/georgekousis6/miniconda3/envs/mat/lib/python3.13/site-packages (from pandas>=1.2->seaborn) (2025.2)\n",
      "Requirement already satisfied: six>=1.5 in /home/georgekousis6/miniconda3/envs/mat/lib/python3.13/site-packages (from python-dateutil>=2.7->matplotlib!=3.6.1,>=3.4->seaborn) (1.17.0)\n",
      "Note: you may need to restart the kernel to use updated packages.\n"
     ]
    }
   ],
   "source": [
    "pip install scipy seaborn"
   ]
  },
  {
   "cell_type": "code",
   "execution_count": 50,
   "id": "7f7ed9db",
   "metadata": {},
   "outputs": [
    {
     "name": "stdout",
     "output_type": "stream",
     "text": [
      "The following genes from RPKM do NOT have matching codon usage data:\n",
      "1          A1BG-AS1\n",
      "4           A2M-AS1\n",
      "6             A2MP1\n",
      "11           AACSP1\n",
      "17            AAED1\n",
      "            ...    \n",
      "18260    ZRANB2-AS1\n",
      "18261    ZRANB2-AS2\n",
      "18265     ZSCAN12P1\n",
      "18290    ZSWIM8-AS1\n",
      "18291         ZUFSP\n",
      "Name: Gene_Symbol, Length: 3103, dtype: object\n",
      "Pearson correlation coefficient: 0.03724617831470378\n",
      "P-value: 4.364306960923513e-06\n"
     ]
    },
    {
     "data": {
      "image/png": "[encoded data removed]",
      "text/plain": [
       "<Figure size 1000x800 with 1 Axes>"
      ]
     },
     "metadata": {},
     "output_type": "display_data"
    }
   ],
   "source": [
    "import seaborn as sns\n",
    "import matplotlib.pyplot as plt\n",
    "from scipy.stats import pearsonr\n",
    "\n",
    "# Merge data\n",
    "merged_df = pd.merge(rpkm, df_results, left_on='Gene_Symbol', right_on='Gene', how='left')\n",
    "unmatched = merged_df[merged_df['Optimal_Codon_Usage_Ratio'].isna()]\n",
    "if unmatched.empty:\n",
    "    print(\"All genes in the RPKM dataset have matching codon usage data.\")\n",
    "else:\n",
    "    print(\"The following genes from RPKM do NOT have matching codon usage data:\")\n",
    "    print(unmatched['Gene_Symbol'])\n",
    "\n",
    "# Filter valid data\n",
    "valid_df = merged_df.dropna(subset=['Optimal_Codon_Usage_Ratio'])\n",
    "corr, p_val = pearsonr(valid_df['Optimal_Codon_Usage_Ratio'], valid_df['RPKM'])\n",
    "print(\"Pearson correlation coefficient:\", corr)\n",
    "print(\"P-value:\", p_val)\n",
    "\n",
    "# Plotting\n",
    "sns.set_style(\"white\")\n",
    "sns.set_context(\"notebook\")\n",
    "\n",
    "plt.figure(figsize=(10, 8))\n",
    "\n",
    "# Scatter plot\n",
    "sns.scatterplot(\n",
    "    data=valid_df,\n",
    "    x='Optimal_Codon_Usage_Ratio',\n",
    "    y='RPKM',\n",
    "    s=100,\n",
    "    edgecolor='black',\n",
    "    linewidth=0.7,\n",
    "    alpha=0.9,\n",
    "    color='#B3EBF2'\n",
    ")\n",
    "\n",
    "# Regression line (no scatter points)\n",
    "sns.regplot(\n",
    "    data=valid_df,\n",
    "    x='Optimal_Codon_Usage_Ratio',\n",
    "    y='RPKM',\n",
    "    scatter=False,\n",
    "    color='red',  # Line color\n",
    "    line_kws={'linewidth': 2, 'linestyle': '--'}\n",
    ")\n",
    "\n",
    "plt.title(f'Codon Usage vs Gene Expression on Breast Tissue\\nPearson r = {corr:.2f}, p-value = {p_val:.2g}', fontsize=15)\n",
    "plt.xlabel('Optimal Codon Usage Ratio', fontsize=14)\n",
    "plt.ylabel('RPKM', fontsize=14)\n",
    "\n",
    "plt.tight_layout()\n",
    "plt.show()\n"
   ]
  },
  {
   "cell_type": "markdown",
   "id": "40ba520b",
   "metadata": {},
   "source": [
    "### Interpretation of Results\n",
    "\n",
    "The **Pearson correlation coefficient** between optimal codon usage ratio and gene expression (RPKM) is:\n",
    "\n",
    "- **r = 0.037**\n",
    "- **p-value = 4.36 × 10⁻⁶**\n",
    "\n",
    "This reflects a **very weak positive correlation** between codon optimization and expression level across genes in human breast tissue. Although the p-value is extremely low, indicating statistical significance (rejecting null of non-linearity), this result should be interpreted with caution.\n",
    "\n",
    "#### Important Considerations:\n",
    "\n",
    "- **Effect Size vs. Significance:**  \n",
    "  The correlation is statistically significant but **biologically weak**. A low p-value can result from the **large sample size** (i.e. thousands of genes), even when the actual association is minimal.\n",
    "  \n",
    "- **No Inference to a Larger Population:**  \n",
    "  Since we are analyzing the **entire set of protein-coding genes**, this is **not a sample**, and traditional inferential statistics (like p-values) are less meaningful. We're not trying to generalize to a larger population — we're describing the dataset as a whole.\n",
    "\n",
    "- **Biological Interpretation:**  \n",
    "  Codon optimization may have some influence on gene expression, but it is likely a **minor factor** compared to other layers of gene regulation (e.g., promoter activity, chromatin state, mRNA decay).\n",
    "\n",
    "#### Future Directions:\n",
    "\n",
    "- Stratify the analysis by gene categories (e.g., housekeeping vs. tissue-specific genes)\n",
    "- Compare across tissues or species to explore context-specific codon bias\n"
   ]
  }
 ],
 "metadata": {
  "kernelspec": {
   "display_name": "mat",
   "language": "python",
   "name": "python3"
  },
  "language_info": {
   "codemirror_mode": {
    "name": "ipython",
    "version": 3
   },
   "file_extension": ".py",
   "mimetype": "text/x-python",
   "name": "python",
   "nbconvert_exporter": "python",
   "pygments_lexer": "ipython3",
   "version": "3.13.2"
  }
 },
 "nbformat": 4,
 "nbformat_minor": 5
}
