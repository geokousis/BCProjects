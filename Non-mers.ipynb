{
 "cells": [
  {
   "cell_type": "markdown",
   "id": "2e8c4262",
   "metadata": {},
   "source": [
    "# BC205-Exercise 1: Introduction and Sequence Analysis\n",
    "*by Georgios Kousis Tsampazis*\n",
    "\n",
    "## Identifying Non-mers in a Bacterial Genome\n",
    "\n",
    "Non-mers are k-mers that don't have a single instance in a greater corpus (e.g. a genome), that is they do not exist in a genome. Search the genome of E. coli for any given 10-mer and report the 10-mers that do not exist in the genome.\n",
    "### Genome Source\n",
    "\n",
    "You can download the *E. coli* genome from [here](https://raw.githubusercontent.com/christoforos-nikolaou/BC205/master/files/ecoli.fa) or use the provided code, which will create a `data_tmp` directory containing the genome file.\n",
    "\n",
    "### Notebook Instructions\n",
    "\n",
    "1. **Download the Genome:**\n",
    "   - Use the link above to obtain the genome of *E. coli*, or run the provided code to create a `data_tmp` directory with the genome file.\n",
    "   \n",
    "2. **Run non-kmer Function:**\n",
    "   - Provide a fasta file and a kmer size \n",
    "\n",
    "3. **Output:**\n",
    "   - Returns a list of non-kmers. \n",
    "\n",
    "*Recommendation:* run in a conda env \n"
   ]
  },
  {
   "cell_type": "markdown",
   "id": "861e3843",
   "metadata": {},
   "source": [
    "### Downlaod data\n",
    "*Required:*\n",
    "- *requests*\n",
    "- *tqdm*"
   ]
  },
  {
   "cell_type": "code",
   "execution_count": 6,
   "id": "d7463e08",
   "metadata": {},
   "outputs": [
    {
     "name": "stdout",
     "output_type": "stream",
     "text": [
      "Requirement already satisfied: tqdm in ./miniconda3/envs/mat/lib/python3.13/site-packages (4.67.1)\n",
      "Requirement already satisfied: requests in ./miniconda3/envs/mat/lib/python3.13/site-packages (2.32.3)\n",
      "Requirement already satisfied: charset-normalizer<4,>=2 in ./miniconda3/envs/mat/lib/python3.13/site-packages (from requests) (3.4.1)\n",
      "Requirement already satisfied: idna<4,>=2.5 in ./miniconda3/envs/mat/lib/python3.13/site-packages (from requests) (3.10)\n",
      "Requirement already satisfied: urllib3<3,>=1.21.1 in ./miniconda3/envs/mat/lib/python3.13/site-packages (from requests) (2.3.0)\n",
      "Requirement already satisfied: certifi>=2017.4.17 in ./miniconda3/envs/mat/lib/python3.13/site-packages (from requests) (2025.1.31)\n",
      "Note: you may need to restart the kernel to use updated packages.\n"
     ]
    }
   ],
   "source": [
    "pip install tqdm requests"
   ]
  },
  {
   "cell_type": "code",
   "execution_count": 7,
   "id": "b28af741",
   "metadata": {},
   "outputs": [
    {
     "name": "stdout",
     "output_type": "stream",
     "text": [
      "ecoli.fa already exists. Skipping download.\n",
      "Files are ready.\n"
     ]
    }
   ],
   "source": [
    "import os\n",
    "import requests\n",
    "from tqdm import tqdm\n",
    "\n",
    "# Create the data directory if it doesn't exist.\n",
    "data_dir = \"./data_tmp\"\n",
    "os.makedirs(data_dir, exist_ok=True)\n",
    "files_to_download = {\n",
    "    \"ecoli.fa\": \"https://raw.githubusercontent.com/christoforos-nikolaou/BC205/master/files/ecoli.fa\"\n",
    "}\n",
    "\n",
    "def download_file(url, file_path):\n",
    "    response = requests.get(url, stream=True)\n",
    "    response.raise_for_status()  # Raise an error for bad status codes.\n",
    "    \n",
    "    total_size = int(response.headers.get('content-length', 0))\n",
    "    block_size = 1024  # 1 Kilobyte blocks\n",
    "\n",
    "    with open(file_path, 'wb') as file, tqdm(\n",
    "            total=total_size, unit='B', unit_scale=True, desc=os.path.basename(file_path)\n",
    "        ) as progress_bar:\n",
    "        for data in response.iter_content(block_size):\n",
    "            file.write(data)\n",
    "            progress_bar.update(len(data))\n",
    "\n",
    "for filename, url in files_to_download.items():\n",
    "    file_path = os.path.join(data_dir, filename)\n",
    "    if not os.path.exists(file_path):\n",
    "        print(f\"Downloading {filename} ...\")\n",
    "        try:\n",
    "            download_file(url, file_path)\n",
    "            print(f\"{filename} downloaded successfully.\")\n",
    "        except Exception as e:\n",
    "            print(f\"Error downloading {filename}: {e}\")\n",
    "    else:\n",
    "        print(f\"{filename} already exists. Skipping download.\")\n",
    "print(\"Files are ready.\")\n"
   ]
  },
  {
   "cell_type": "markdown",
   "id": "00ac3869",
   "metadata": {},
   "source": [
    "### Non-kmer Function"
   ]
  },
  {
   "cell_type": "code",
   "execution_count": 9,
   "id": "74f5fc68",
   "metadata": {},
   "outputs": [
    {
     "name": "stdout",
     "output_type": "stream",
     "text": [
      "INFO: Analysis Started\n",
      "WARNING: 100 Not typical DNA characters were found\n",
      "WARNING: Unique invalid characters found: {'N'}\n",
      "INFO: 825256 kmers found in the input genome\n",
      "INFO: 223320 non-kmers found which is approximately 21.30% of all possible kmers.\n",
      "INFO: Analysis Completed\n"
     ]
    }
   ],
   "source": [
    "import re\n",
    "import itertools\n",
    "def hashnonkmers(genomefile, k=10):\n",
    "    \"\"\"\n",
    "    Finds non-kmers with hashing.\n",
    "    Input is a fasta file !!! Careful Only one sample (only one header instance) and kmer size default is 10\n",
    "    Example call: hashnonkmers(\"myfasta.fa\", 5) for all non-5-mers in myfasta.fa\n",
    "    \"\"\"\n",
    "    print(f\"INFO: Analysis Started\")\n",
    "    \n",
    "    # Step 1: Reading and Cleaning the Genome\n",
    "    with open(genomefile, 'r') as file:\n",
    "        lines = file.readlines()\n",
    "    seq_lines = [line.strip() for line in lines[1:]] # Skip the first line (header)\n",
    "    seq_tmp = ''.join(seq_lines) \n",
    "\n",
    "    seq = re.sub(\"[^AGCT]\", \"\", seq_tmp) # Check for weird dna instances \n",
    "    \n",
    "    if len(seq)!=len(seq_tmp):\n",
    "        print(f\"WARNING: {len(seq_tmp)-len(seq)} Not typical DNA characters were found\")\n",
    "        invalid_chars = re.findall(\"[^AGCT]\", seq_tmp)\n",
    "        unique_invalid_chars = set(invalid_chars) # print weird dna instances\n",
    "        print(\"WARNING: Unique invalid characters found:\", unique_invalid_chars)\n",
    "    \n",
    "    # Step 2: Extracting k-mers from the Genome\n",
    "    kmer_set = {seq[i:i+k] for i in range(len(seq)-k+1)} # Find kmers in sequence \n",
    "    \n",
    "    # Step 3: Generating All Possible k-mers\n",
    "    nucleotides = ['A', 'C', 'G', 'T']\n",
    "    allkmers = [''.join(p) for p in itertools.product(nucleotides, repeat=k)] # Create all available kmers\n",
    "\n",
    "    # Step 4: Computing the Non-kmers\n",
    "    non_kmers=[i for i in allkmers if i not in kmer_set] # Found which non-kmers exist in the input sequence \n",
    "    \n",
    "    if (len(non_kmers)+len(kmer_set))!=len(allkmers): # Control-logic Error \n",
    "        print(\"ERROR: Total possible kmers didn't match the sum of non-kmers and kmers found in the sequence\")\n",
    "        return None\n",
    "    else:\n",
    "        print(f\"INFO: {len(kmer_set)} kmers found in the input genome\")\n",
    "        print(f\"INFO: {len(non_kmers)} non-kmers found which is approximately {len(non_kmers)/len(allkmers)*100:.2f}% of all possible kmers.\")\n",
    "        print(f\"INFO: Analysis Completed\")\n",
    "        return non_kmers\n",
    "    \n",
    "non_kmers=hashnonkmers(\"./data_tmp/ecoli.fa\")    \n"
   ]
  },
  {
   "cell_type": "markdown",
   "id": "53acdbeb",
   "metadata": {},
   "source": [
    "## Function Results\n",
    "\n",
    "### Function Output\n",
    "\n",
    "When running the function on the *E. coli* genome, the following output was produced:\n",
    "\n",
    "- **INFO:** Analysis Started\n",
    "- **WARNING:** 100 Not typical DNA characters were found\n",
    "- **WARNING:** Unique invalid characters found: {'N'}\n",
    "- **INFO:** 825256 kmers found in the input genome\n",
    "- **INFO:** 223320 non-kmers found which is approximately 21.30% of all possible kmers\n",
    "- **INFO:** Analysis Completed\n"
   ]
  },
  {
   "cell_type": "markdown",
   "id": "2e786a98",
   "metadata": {},
   "source": [
    "\n",
    "## Complexity Analysis\n",
    "\n",
    "### Current Approach\n",
    "\n",
    "- **Step 1: Reading and Cleaning the Genome**  \n",
    "  The function reads the file and concatenates the sequence, running in **O(n)** time, where *n* is the length of the genome.\n",
    "\n",
    "- **Step 2: Extracting k-mers from the Genome**  \n",
    "  It extracts all k-mers (substrings of length *k*) from the genome using a set comprehension. This process also runs in approximately **O(n)** time since it iterates through the sequence once. Stolen from [here](https://nbviewer.org/github/christoforos-nikolaou/BC205/blob/master/Classes/Chapter_02_Sequence_Analysis.html).\n",
    "- **Step 3: Generating All Possible k-mers**  \n",
    "  All possible k-mers are generated using `itertools.product`, which produces **4^k** combinations. For *k = 10*, this is **1048576** possible k-mers, so this step is **O(4^k)**. Stolen from [here](https://nbviewer.org/github/christoforos-nikolaou/BC205/blob/master/Classes/Chapter_02_Sequence_Analysis.html).\n",
    "\n",
    "- **Step 4: Computing the Non-kmers**  \n",
    "  The function computes the non-kmers as the difference between all possible list k-mers and those found in the genome, this step is also approximately **O(4^k)**.\n",
    "\n",
    "Overall, the time complexity of the current method is **O(n + 4^k)**, which is efficient since it utilizes hashing.\n",
    "\n",
    "### Alternative \"Reverse Logic\" Approach - no hashing\n",
    "\n",
    "If instead of using hashing, the function could:\n",
    "\n",
    "1. **Generate all available k-mers (O(4^k)).**\n",
    "2. **For each k-mer, search through the genome to check if it exists.**\n",
    "\n",
    "In this reverse logic, each k-mer would be checked against the genome, and a naive search through the genome for a substring can take **O(n)** time per k-mer. This approach would result in a time complexity of **O(4^k * n)**.\n",
    "\n",
    "For example, with *k = 10*, there would be 1048576 k-mers, and for each one, scanning the genome would be required. This would be significantly less efficient compared to the hash-based approach, making it impossible to run (for k=10 and other big k).\n",
    "### Conclusion\n",
    "\n",
    "- **Current Method:**  \n",
    "  Uses set and hashing logic to extract k-mers efficiently with a total complexity of **O(n + 4^k)**.\n",
    "\n",
    "- **Reverse Logic Alternative:**  \n",
    "  Would require checking each of the **4^k** possible k-mers against the genome, resulting in a much higher complexity of **O(4^k * n)**.\n",
    "\n",
    "The current method is clearly preferable in terms of computational efficiency, especially as the value of *k* increases.\n",
    "\n"
   ]
  }
 ],
 "metadata": {
  "kernelspec": {
   "display_name": "mat",
   "language": "python",
   "name": "python3"
  },
  "language_info": {
   "codemirror_mode": {
    "name": "ipython",
    "version": 3
   },
   "file_extension": ".py",
   "mimetype": "text/x-python",
   "name": "python",
   "nbconvert_exporter": "python",
   "pygments_lexer": "ipython3",
   "version": "3.13.2"
  }
 },
 "nbformat": 4,
 "nbformat_minor": 5
}
