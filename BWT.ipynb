{
 "cells": [
  {
   "cell_type": "markdown",
   "id": "dd3470fd",
   "metadata": {},
   "source": [
    "## BC205 Exercise 4: Burrows-Wheeler Transformation\n",
    "---\n",
    "\n",
    "#####  **Author:** Georgios Kousis Tsampazis\n",
    "---\n",
    "\n",
    "### Overview\n",
    "This exercise is split in two parts and will be performed with a partner. You will not work in pairs but you need a pair. Each pair A,B will work in the following way:\n",
    "1. Member A will browse Uniprot (https://www.uniprot.org/) for a protein sequence of his/her choice. Then:\n",
    "  a. He/She will obtain the Protein Accession Number and the fasta sequence of the protein \n",
    "  b. Will use the BWT to transform it using the dollar (\\$) sign for terminal symbol. \\$ will have top priority in sorting.\n",
    "  c. He/She will send the **BWT Transform of the sequence** to member B.\n",
    "2. Member B will have to: a. Implement the BWT reversal (decoding) algorithm to find the actual sequence A sent him/her b. BLAST it against uniprot (with Protein BLAST) and identify the accession number\n",
    "   \n",
    "Once this is complete (or the deadline has arrived) A will send me the Accession Number and Fasta sequence of the protein and B will send me the Accession Number he/she identified. Both will also send me the code. Please do so independently even if you have cross-compared your results."
   ]
  },
  {
   "cell_type": "markdown",
   "id": "aebb617c",
   "metadata": {},
   "source": [
    "### Member A \n"
   ]
  },
  {
   "cell_type": "markdown",
   "id": "2443c875",
   "metadata": {},
   "source": [
    "### Noteboook dependencies\n",
    "*As always a conda enviroment is recommended for easier installation*"
   ]
  },
  {
   "cell_type": "code",
   "execution_count": 1,
   "id": "f70bb3d5",
   "metadata": {},
   "outputs": [
    {
     "name": "stdout",
     "output_type": "stream",
     "text": [
      "Requirement already satisfied: tqdm in /home/kousis/miniconda3/lib/python3.13/site-packages (4.67.1)\n",
      "Requirement already satisfied: Bio in /home/kousis/miniconda3/lib/python3.13/site-packages (1.8.0)\n",
      "Requirement already satisfied: pandas in /home/kousis/miniconda3/lib/python3.13/site-packages (2.2.3)\n",
      "Requirement already satisfied: biopython>=1.80 in /home/kousis/miniconda3/lib/python3.13/site-packages (from Bio) (1.85)\n",
      "Requirement already satisfied: gprofiler-official in /home/kousis/miniconda3/lib/python3.13/site-packages (from Bio) (1.0.0)\n",
      "Requirement already satisfied: mygene in /home/kousis/miniconda3/lib/python3.13/site-packages (from Bio) (3.2.2)\n",
      "Requirement already satisfied: pooch in /home/kousis/miniconda3/lib/python3.13/site-packages (from Bio) (1.8.2)\n",
      "Requirement already satisfied: requests in /home/kousis/miniconda3/lib/python3.13/site-packages (from Bio) (2.32.3)\n",
      "Requirement already satisfied: numpy>=1.26.0 in /home/kousis/miniconda3/lib/python3.13/site-packages (from pandas) (2.2.5)\n",
      "Requirement already satisfied: python-dateutil>=2.8.2 in /home/kousis/miniconda3/lib/python3.13/site-packages (from pandas) (2.9.0.post0)\n",
      "Requirement already satisfied: pytz>=2020.1 in /home/kousis/miniconda3/lib/python3.13/site-packages (from pandas) (2025.2)\n",
      "Requirement already satisfied: tzdata>=2022.7 in /home/kousis/miniconda3/lib/python3.13/site-packages (from pandas) (2025.2)\n",
      "Requirement already satisfied: six>=1.5 in /home/kousis/miniconda3/lib/python3.13/site-packages (from python-dateutil>=2.8.2->pandas) (1.17.0)\n",
      "Requirement already satisfied: biothings-client>=0.2.6 in /home/kousis/miniconda3/lib/python3.13/site-packages (from mygene->Bio) (0.4.1)\n",
      "Requirement already satisfied: httpx>=0.22.0 in /home/kousis/miniconda3/lib/python3.13/site-packages (from biothings-client>=0.2.6->mygene->Bio) (0.28.1)\n",
      "Requirement already satisfied: anyio in /home/kousis/miniconda3/lib/python3.13/site-packages (from httpx>=0.22.0->biothings-client>=0.2.6->mygene->Bio) (4.9.0)\n",
      "Requirement already satisfied: certifi in /home/kousis/miniconda3/lib/python3.13/site-packages (from httpx>=0.22.0->biothings-client>=0.2.6->mygene->Bio) (2025.4.26)\n",
      "Requirement already satisfied: httpcore==1.* in /home/kousis/miniconda3/lib/python3.13/site-packages (from httpx>=0.22.0->biothings-client>=0.2.6->mygene->Bio) (1.0.9)\n",
      "Requirement already satisfied: idna in /home/kousis/miniconda3/lib/python3.13/site-packages (from httpx>=0.22.0->biothings-client>=0.2.6->mygene->Bio) (3.7)\n",
      "Requirement already satisfied: h11>=0.16 in /home/kousis/miniconda3/lib/python3.13/site-packages (from httpcore==1.*->httpx>=0.22.0->biothings-client>=0.2.6->mygene->Bio) (0.16.0)\n",
      "Requirement already satisfied: sniffio>=1.1 in /home/kousis/miniconda3/lib/python3.13/site-packages (from anyio->httpx>=0.22.0->biothings-client>=0.2.6->mygene->Bio) (1.3.1)\n",
      "Requirement already satisfied: platformdirs>=2.5.0 in /home/kousis/miniconda3/lib/python3.13/site-packages (from pooch->Bio) (4.3.7)\n",
      "Requirement already satisfied: packaging>=20.0 in /home/kousis/miniconda3/lib/python3.13/site-packages (from pooch->Bio) (24.2)\n",
      "Requirement already satisfied: charset-normalizer<4,>=2 in /home/kousis/miniconda3/lib/python3.13/site-packages (from requests->Bio) (3.3.2)\n",
      "Requirement already satisfied: urllib3<3,>=1.21.1 in /home/kousis/miniconda3/lib/python3.13/site-packages (from requests->Bio) (2.3.0)\n",
      "Note: you may need to restart the kernel to use updated packages.\n"
     ]
    }
   ],
   "source": [
    "pip install tqdm Bio pandas"
   ]
  },
  {
   "cell_type": "markdown",
   "id": "70b263ff",
   "metadata": {},
   "source": [
    "### Downlaod data"
   ]
  },
  {
   "cell_type": "code",
   "execution_count": 2,
   "id": "29596b83",
   "metadata": {},
   "outputs": [
    {
     "name": "stdout",
     "output_type": "stream",
     "text": [
      "P05814.fa already exists. Skipping download.\n",
      "Files are ready.\n"
     ]
    }
   ],
   "source": [
    "import os\n",
    "import requests\n",
    "from tqdm import tqdm\n",
    "\n",
    "# Create the data directory if it doesn't exist.\n",
    "data_dir = \"./data_tmp\"\n",
    "os.makedirs(data_dir, exist_ok=True)\n",
    "files_to_download = {\"P05814.fa\": \"https://rest.uniprot.org/uniprotkb/P05814.fasta\"}\n",
    "\n",
    "def download_file(url, file_path):\n",
    "    response = requests.get(url, stream=True)\n",
    "    response.raise_for_status()  # Raise an error for bad status codes.\n",
    "    \n",
    "    total_size = int(response.headers.get('content-length', 0))\n",
    "    block_size = 1024  # 1 Kilobyte blocks\n",
    "\n",
    "    with open(file_path, 'wb') as file, tqdm(\n",
    "            total=total_size, unit='B', unit_scale=True, desc=os.path.basename(file_path)\n",
    "        ) as progress_bar:\n",
    "        for data in response.iter_content(block_size):\n",
    "            file.write(data)\n",
    "            progress_bar.update(len(data))\n",
    "\n",
    "for filename, url in files_to_download.items():\n",
    "    file_path = os.path.join(data_dir, filename)\n",
    "    if not os.path.exists(file_path):\n",
    "        print(f\"Downloading {filename} ...\")\n",
    "        try:\n",
    "            download_file(url, file_path)\n",
    "            print(f\"{filename} downloaded successfully.\")\n",
    "        except Exception as e:\n",
    "            print(f\"Error downloading {filename}: {e}\")\n",
    "    else:\n",
    "        print(f\"{filename} already exists. Skipping download.\")\n",
    "print(\"Files are ready.\")\n"
   ]
  },
  {
   "cell_type": "markdown",
   "id": "fa4da489",
   "metadata": {},
   "source": [
    "### Open the sequences & add \\$\n",
    "*I find it funny using a library just to open a fasta*"
   ]
  },
  {
   "cell_type": "code",
   "execution_count": 3,
   "id": "ab3b52e9",
   "metadata": {},
   "outputs": [],
   "source": [
    "from Bio import SeqIO\n",
    "record = SeqIO.read(\"./data_tmp/P05814.fa\", \"fasta\")\n",
    "protein = record.seq\n",
    "protein_with_terminator = protein + \"$\" # If you don't do that u will get punished later"
   ]
  },
  {
   "cell_type": "markdown",
   "id": "76da8da2",
   "metadata": {},
   "source": [
    "### Protein Sequence"
   ]
  },
  {
   "cell_type": "code",
   "execution_count": 14,
   "id": "b30b83d9",
   "metadata": {},
   "outputs": [
    {
     "name": "stdout",
     "output_type": "stream",
     "text": [
      "MKVLILACLVALALARETIESLSSSEESITEYKQKVEKVKHEDQQQGEDEHQDKIYPSFQPQPLIYPFVEPIPYGFLPQNILPLAQPAVVLPVPQPEIMEVPKAKDTVYTKGRVMPVLKSPTIPFFDPQIPKLTDLENLHLPLPLLQPLMQQVPQPIPQTLALPPQPLWSVPQPKVLPIPQQVVPYPQRAVPVQALLLNQELLLNPTHQIYPVTQPLAPVHNPISV$\n"
     ]
    }
   ],
   "source": [
    "print(protein_with_terminator)"
   ]
  },
  {
   "cell_type": "markdown",
   "id": "fda1ab4d",
   "metadata": {},
   "source": [
    "###  Burrows–Wheeler Transform Function\n",
    "**Function:** `bwt_transform(s)`\n",
    "\n",
    "**Purpose:**\n",
    "Compute the Burrows–Wheeler Transform (BWT) of an input string by sorting all of its cyclic rotations and extracting the last column of the sorted matrix. \\\n",
    "**Parameters:**\n",
    "* `s` (`str`)\n",
    "  An input string (in our case protein sequence) that **must** include a unique terminal symbol (commonly `$`) at its end. The terminal symbol ensures all rotations are distinct and that the transform is reversible. \n",
    "\n",
    "**Returns:**\n",
    "* (`str`)\n",
    "  The BWT of the input\n",
    "\n",
    "**Workflow:**\n",
    "\n",
    "1. **Generate all cyclic rotations**\n",
    "2. **Sort the rotations lexicographically**\n",
    "3. **Extract the last column**\n",
    "4. **Return the BWT string**\n",
    "\n",
    "**Usage Example:**\n",
    "\n",
    "```python\n",
    "seq_ex = \"GATTACA$\"\n",
    "bwt = bwt_transform(seq_ex)\n",
    "```\n"
   ]
  },
  {
   "cell_type": "code",
   "execution_count": 9,
   "id": "f1543698",
   "metadata": {},
   "outputs": [],
   "source": [
    "# Very useful \n",
    "class YouSuckError(Exception):\n",
    "    \"\"\"A very informative error raise\"\"\"\n",
    "    pass\n",
    "\n",
    "\n",
    "\n",
    "def bwt_transform(s):\n",
    "    \"\"\"\n",
    "    Computes the BWT of the string s (which must include a unique '$' at the end).\n",
    "    \"\"\"\n",
    "    #### Unexpected Input\n",
    "    if s.count(\"$\")!=1:\n",
    "         raise YouSuckError(\n",
    "         f\"You had 1 Job and you failed!\\n\" \n",
    "         f\"Your string either has no $ or has more than one.\\n\"\n",
    "         f\"I am computer program and in reality I could tell you how many $ (if any) there are...\\n\"\n",
    "         f\"...but I wont.\")\n",
    "    ####\n",
    "    global rotations\n",
    "    rotations = [s[i:] + s[:i] for i in range(len(s))]\n",
    "    rotations.sort()  \n",
    "    return ''.join(rotation[-1] for rotation in rotations)"
   ]
  },
  {
   "cell_type": "markdown",
   "id": "29859e01",
   "metadata": {
    "vscode": {
     "languageId": "bat"
    }
   },
   "source": [
    "#### Execution: call the `bwt_transform` and print results"
   ]
  },
  {
   "cell_type": "code",
   "execution_count": 11,
   "id": "e5937e86",
   "metadata": {},
   "outputs": [
    {
     "data": {
      "text/plain": [
       "'VLKVLQLLLLRPAEQTFEKGHSDPVQLVEIRMTFPGSPQYKKLVETTLNETQPPPPSLKQPATVDPYLQEMPIATPPADNVPVEALLPPLLVIPHAFVLSKCPI$VLQEHLLQQIYLQENVIQQLQLQLQLDLVVVQPIYIYNSAMLVYIVVHNQPHKPAPPPTPLPFQDMPPPQQQAGSPEEKSLIWLIPEPYQVDSLKFPKKPKVREPQSAVPPAQTLPEIPIIV'"
      ]
     },
     "execution_count": 11,
     "metadata": {},
     "output_type": "execute_result"
    }
   ],
   "source": [
    "bwt_transform(protein_with_terminator)"
   ]
  },
  {
   "cell_type": "markdown",
   "id": "8b2980e6",
   "metadata": {},
   "source": [
    "#### Detailed Rotations"
   ]
  },
  {
   "cell_type": "code",
   "execution_count": 12,
   "id": "f1f82cea",
   "metadata": {},
   "outputs": [
    {
     "name": "stdout",
     "output_type": "stream",
     "text": [
      "                                              Rotation Last Character\n",
      "0    ($, M, K, V, L, I, L, A, C, L, V, A, L, A, L, ...              V\n",
      "1    (A, C, L, V, A, L, A, L, A, R, E, T, I, E, S, ...              L\n",
      "2    (A, K, D, T, V, Y, T, K, G, R, V, M, P, V, L, ...              K\n",
      "3    (A, L, A, L, A, R, E, T, I, E, S, L, S, S, S, ...              V\n",
      "4    (A, L, A, R, E, T, I, E, S, L, S, S, S, E, E, ...              L\n",
      "..                                                 ...            ...\n",
      "222  (Y, P, F, V, E, P, I, P, Y, G, F, L, P, Q, N, ...              I\n",
      "223  (Y, P, Q, R, A, V, P, V, Q, A, L, L, L, N, Q, ...              P\n",
      "224  (Y, P, S, F, Q, P, Q, P, L, I, Y, P, F, V, E, ...              I\n",
      "225  (Y, P, V, T, Q, P, L, A, P, V, H, N, P, I, S, ...              I\n",
      "226  (Y, T, K, G, R, V, M, P, V, L, K, S, P, T, I, ...              V\n",
      "\n",
      "[227 rows x 2 columns]\n"
     ]
    }
   ],
   "source": [
    "import pandas as pd\n",
    "df = pd.DataFrame({\n",
    "    \"Rotation\": rotations,\n",
    "    \"Last Character\": [r[-1] for r in rotations]\n",
    "})\n",
    "print(df)"
   ]
  },
  {
   "cell_type": "markdown",
   "id": "683f5604",
   "metadata": {},
   "source": [
    "#### Funny Execution: call the `bwt_transform` and print **funny** results"
   ]
  },
  {
   "cell_type": "code",
   "execution_count": 13,
   "id": "1cbe7c31",
   "metadata": {},
   "outputs": [
    {
     "ename": "YouSuckError",
     "evalue": "You had 1 Job and you failed!\nYour string either has no $ or has more than one.\nI am computer program and in reality I could tell you how many $ (if any) there are...\n...but I wont.",
     "output_type": "error",
     "traceback": [
      "\u001b[31m---------------------------------------------------------------------------\u001b[39m",
      "\u001b[31mYouSuckError\u001b[39m                              Traceback (most recent call last)",
      "\u001b[36mCell\u001b[39m\u001b[36m \u001b[39m\u001b[32mIn[13]\u001b[39m\u001b[32m, line 1\u001b[39m\n\u001b[32m----> \u001b[39m\u001b[32m1\u001b[39m \u001b[43mbwt_transform\u001b[49m\u001b[43m(\u001b[49m\u001b[43mprotein\u001b[49m\u001b[43m)\u001b[49m\n",
      "\u001b[36mCell\u001b[39m\u001b[36m \u001b[39m\u001b[32mIn[9]\u001b[39m\u001b[32m, line 14\u001b[39m, in \u001b[36mbwt_transform\u001b[39m\u001b[34m(s)\u001b[39m\n\u001b[32m     12\u001b[39m \u001b[38;5;66;03m#### Unexpected Input\u001b[39;00m\n\u001b[32m     13\u001b[39m \u001b[38;5;28;01mif\u001b[39;00m s.count(\u001b[33m\"\u001b[39m\u001b[33m$\u001b[39m\u001b[33m\"\u001b[39m)!=\u001b[32m1\u001b[39m:\n\u001b[32m---> \u001b[39m\u001b[32m14\u001b[39m      \u001b[38;5;28;01mraise\u001b[39;00m YouSuckError(\n\u001b[32m     15\u001b[39m      \u001b[33mf\u001b[39m\u001b[33m\"\u001b[39m\u001b[33mYou had 1 Job and you failed!\u001b[39m\u001b[38;5;130;01m\\n\u001b[39;00m\u001b[33m\"\u001b[39m \n\u001b[32m     16\u001b[39m      \u001b[33mf\u001b[39m\u001b[33m\"\u001b[39m\u001b[33mYour string either has no $ or has more than one.\u001b[39m\u001b[38;5;130;01m\\n\u001b[39;00m\u001b[33m\"\u001b[39m\n\u001b[32m     17\u001b[39m      \u001b[33mf\u001b[39m\u001b[33m\"\u001b[39m\u001b[33mI am computer program and in reality I could tell you how many $ (if any) there are...\u001b[39m\u001b[38;5;130;01m\\n\u001b[39;00m\u001b[33m\"\u001b[39m\n\u001b[32m     18\u001b[39m      \u001b[33mf\u001b[39m\u001b[33m\"\u001b[39m\u001b[33m...but I wont.\u001b[39m\u001b[33m\"\u001b[39m)\n\u001b[32m     19\u001b[39m \u001b[38;5;66;03m####\u001b[39;00m\n\u001b[32m     20\u001b[39m \u001b[38;5;28;01mglobal\u001b[39;00m rotations\n",
      "\u001b[31mYouSuckError\u001b[39m: You had 1 Job and you failed!\nYour string either has no $ or has more than one.\nI am computer program and in reality I could tell you how many $ (if any) there are...\n...but I wont."
     ]
    }
   ],
   "source": [
    "bwt_transform(protein)"
   ]
  },
  {
   "cell_type": "markdown",
   "id": "e1188d9a",
   "metadata": {},
   "source": [
    "---\n",
    "### For Member B\n",
    "#### To decipher:\n",
    "https://pastebin.com/4x8NmKDU\n"
   ]
  },
  {
   "cell_type": "markdown",
   "id": "0f7c34ad",
   "metadata": {},
   "source": [
    "---  \n",
    "*Here lies the answear*  \n",
    "*shhhhh*\n",
    "\n",
    "> **UniProt accession**: [P05814](https://rest.uniprot.org/uniprotkb/P05814.fasta)\n"
   ]
  }
 ],
 "metadata": {
  "kernelspec": {
   "display_name": "base",
   "language": "python",
   "name": "python3"
  },
  "language_info": {
   "codemirror_mode": {
    "name": "ipython",
    "version": 3
   },
   "file_extension": ".py",
   "mimetype": "text/x-python",
   "name": "python",
   "nbconvert_exporter": "python",
   "pygments_lexer": "ipython3",
   "version": "3.13.2"
  }
 },
 "nbformat": 4,
 "nbformat_minor": 5
}
